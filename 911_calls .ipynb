{
  "nbformat": 4,
  "nbformat_minor": 0,
  "metadata": {
    "kernelspec": {
      "display_name": "Python 3",
      "language": "python",
      "name": "python3"
    },
    "language_info": {
      "codemirror_mode": {
        "name": "ipython",
        "version": 3
      },
      "file_extension": ".py",
      "mimetype": "text/x-python",
      "name": "python",
      "nbconvert_exporter": "python",
      "pygments_lexer": "ipython3",
      "version": "3.5.1"
    },
    "colab": {
      "name": "911 calls.ipynb",
      "provenance": [],
      "collapsed_sections": [],
      "toc_visible": true
    }
  },
  "cells": [
    {
      "cell_type": "markdown",
      "metadata": {
        "id": "Be185eNNSlaS"
      },
      "source": [
        "# 911 Calls \n",
        "\n"
      ]
    },
    {
      "cell_type": "markdown",
      "metadata": {
        "id": "KGAKxhzeU4w2"
      },
      "source": [
        "#DataSet\n",
        "- This is a 911 Emergency Calls Dataset Taken from Kaggle\n",
        "##Kaggle Link: https://www.kaggle.com/mchirico/montcoalert"
      ]
    },
    {
      "cell_type": "markdown",
      "metadata": {
        "id": "ettZOuqNSlaW"
      },
      "source": [
        "For this capstone project we will be analyzing some 911 call data from [Kaggle](https://www.kaggle.com/mchirico/montcoalert)"
      ]
    },
    {
      "cell_type": "markdown",
      "metadata": {
        "id": "Q4Xt_6__SlaX"
      },
      "source": [
        "## Import libraries\n"
      ]
    },
    {
      "cell_type": "markdown",
      "metadata": {
        "id": "Cp55Yh1iSlaX"
      },
      "source": [
        "____\n",
        " **Importing numpy and pandas libraries**"
      ]
    },
    {
      "cell_type": "code",
      "metadata": {
        "collapsed": true,
        "id": "GFD8g2d7SlaZ"
      },
      "source": [
        "import numpy as np\n",
        "import pandas as pd"
      ],
      "execution_count": 93,
      "outputs": []
    },
    {
      "cell_type": "markdown",
      "metadata": {
        "id": "kRkXqwQtSlaa"
      },
      "source": [
        "**Importing visualization libraries**\n"
      ]
    },
    {
      "cell_type": "code",
      "metadata": {
        "id": "sdyYmslFSlaa"
      },
      "source": [
        "import matplotlib.pyplot as plt\n",
        "import seaborn as sns\n",
        "sns.set_style('whitegrid')\n",
        "%matplotlib inline"
      ],
      "execution_count": 94,
      "outputs": []
    },
    {
      "cell_type": "markdown",
      "metadata": {
        "id": "-UT55Pm7fW10"
      },
      "source": [
        "##Reading our dataset"
      ]
    },
    {
      "cell_type": "code",
      "metadata": {
        "collapsed": true,
        "id": "Fm4qmcJKSlab"
      },
      "source": [
        "data = pd.read_csv('911.csv')"
      ],
      "execution_count": 95,
      "outputs": []
    },
    {
      "cell_type": "markdown",
      "metadata": {
        "id": "oV9meWK2fSk6"
      },
      "source": [
        "##Exploring the dataset"
      ]
    },
    {
      "cell_type": "code",
      "metadata": {
        "id": "leff4CpQSlac",
        "colab": {
          "base_uri": "https://localhost:8080/"
        },
        "outputId": "b03d1835-44e3-40b6-8b6b-cafb1817069e"
      },
      "source": [
        "#gives all information of the data\n",
        "data.info() \n"
      ],
      "execution_count": 96,
      "outputs": [
        {
          "output_type": "stream",
          "text": [
            "<class 'pandas.core.frame.DataFrame'>\n",
            "RangeIndex: 99492 entries, 0 to 99491\n",
            "Data columns (total 9 columns):\n",
            " #   Column     Non-Null Count  Dtype  \n",
            "---  ------     --------------  -----  \n",
            " 0   lat        99492 non-null  float64\n",
            " 1   lng        99492 non-null  float64\n",
            " 2   desc       99492 non-null  object \n",
            " 3   zip        86637 non-null  float64\n",
            " 4   title      99492 non-null  object \n",
            " 5   timeStamp  99492 non-null  object \n",
            " 6   twp        99449 non-null  object \n",
            " 7   addr       98973 non-null  object \n",
            " 8   e          99492 non-null  int64  \n",
            "dtypes: float64(3), int64(1), object(5)\n",
            "memory usage: 6.8+ MB\n"
          ],
          "name": "stdout"
        }
      ]
    },
    {
      "cell_type": "code",
      "metadata": {
        "colab": {
          "base_uri": "https://localhost:8080/",
          "height": 297
        },
        "id": "mS0hsRjEfDqX",
        "outputId": "cc7d33c7-8592-495e-8aa5-4b441d361363"
      },
      "source": [
        "#Describing all the statistics in our data\n",
        "data.describe()"
      ],
      "execution_count": 97,
      "outputs": [
        {
          "output_type": "execute_result",
          "data": {
            "text/html": [
              "<div>\n",
              "<style scoped>\n",
              "    .dataframe tbody tr th:only-of-type {\n",
              "        vertical-align: middle;\n",
              "    }\n",
              "\n",
              "    .dataframe tbody tr th {\n",
              "        vertical-align: top;\n",
              "    }\n",
              "\n",
              "    .dataframe thead th {\n",
              "        text-align: right;\n",
              "    }\n",
              "</style>\n",
              "<table border=\"1\" class=\"dataframe\">\n",
              "  <thead>\n",
              "    <tr style=\"text-align: right;\">\n",
              "      <th></th>\n",
              "      <th>lat</th>\n",
              "      <th>lng</th>\n",
              "      <th>zip</th>\n",
              "      <th>e</th>\n",
              "    </tr>\n",
              "  </thead>\n",
              "  <tbody>\n",
              "    <tr>\n",
              "      <th>count</th>\n",
              "      <td>99492.000000</td>\n",
              "      <td>99492.000000</td>\n",
              "      <td>86637.000000</td>\n",
              "      <td>99492.0</td>\n",
              "    </tr>\n",
              "    <tr>\n",
              "      <th>mean</th>\n",
              "      <td>40.159526</td>\n",
              "      <td>-75.317464</td>\n",
              "      <td>19237.658298</td>\n",
              "      <td>1.0</td>\n",
              "    </tr>\n",
              "    <tr>\n",
              "      <th>std</th>\n",
              "      <td>0.094446</td>\n",
              "      <td>0.174826</td>\n",
              "      <td>345.344914</td>\n",
              "      <td>0.0</td>\n",
              "    </tr>\n",
              "    <tr>\n",
              "      <th>min</th>\n",
              "      <td>30.333596</td>\n",
              "      <td>-95.595595</td>\n",
              "      <td>17752.000000</td>\n",
              "      <td>1.0</td>\n",
              "    </tr>\n",
              "    <tr>\n",
              "      <th>25%</th>\n",
              "      <td>40.100423</td>\n",
              "      <td>-75.392104</td>\n",
              "      <td>19038.000000</td>\n",
              "      <td>1.0</td>\n",
              "    </tr>\n",
              "    <tr>\n",
              "      <th>50%</th>\n",
              "      <td>40.145223</td>\n",
              "      <td>-75.304667</td>\n",
              "      <td>19401.000000</td>\n",
              "      <td>1.0</td>\n",
              "    </tr>\n",
              "    <tr>\n",
              "      <th>75%</th>\n",
              "      <td>40.229008</td>\n",
              "      <td>-75.212513</td>\n",
              "      <td>19446.000000</td>\n",
              "      <td>1.0</td>\n",
              "    </tr>\n",
              "    <tr>\n",
              "      <th>max</th>\n",
              "      <td>41.167156</td>\n",
              "      <td>-74.995041</td>\n",
              "      <td>77316.000000</td>\n",
              "      <td>1.0</td>\n",
              "    </tr>\n",
              "  </tbody>\n",
              "</table>\n",
              "</div>"
            ],
            "text/plain": [
              "                lat           lng           zip        e\n",
              "count  99492.000000  99492.000000  86637.000000  99492.0\n",
              "mean      40.159526    -75.317464  19237.658298      1.0\n",
              "std        0.094446      0.174826    345.344914      0.0\n",
              "min       30.333596    -95.595595  17752.000000      1.0\n",
              "25%       40.100423    -75.392104  19038.000000      1.0\n",
              "50%       40.145223    -75.304667  19401.000000      1.0\n",
              "75%       40.229008    -75.212513  19446.000000      1.0\n",
              "max       41.167156    -74.995041  77316.000000      1.0"
            ]
          },
          "metadata": {
            "tags": []
          },
          "execution_count": 97
        }
      ]
    },
    {
      "cell_type": "code",
      "metadata": {
        "id": "D5xpNS7DSlad",
        "colab": {
          "base_uri": "https://localhost:8080/",
          "height": 374
        },
        "outputId": "2f6b8606-801e-4fd2-af8a-5d8b0939aad6"
      },
      "source": [
        "#shows the top 5 columns of the data\n",
        "data.head()"
      ],
      "execution_count": 98,
      "outputs": [
        {
          "output_type": "execute_result",
          "data": {
            "text/html": [
              "<div>\n",
              "<style scoped>\n",
              "    .dataframe tbody tr th:only-of-type {\n",
              "        vertical-align: middle;\n",
              "    }\n",
              "\n",
              "    .dataframe tbody tr th {\n",
              "        vertical-align: top;\n",
              "    }\n",
              "\n",
              "    .dataframe thead th {\n",
              "        text-align: right;\n",
              "    }\n",
              "</style>\n",
              "<table border=\"1\" class=\"dataframe\">\n",
              "  <thead>\n",
              "    <tr style=\"text-align: right;\">\n",
              "      <th></th>\n",
              "      <th>lat</th>\n",
              "      <th>lng</th>\n",
              "      <th>desc</th>\n",
              "      <th>zip</th>\n",
              "      <th>title</th>\n",
              "      <th>timeStamp</th>\n",
              "      <th>twp</th>\n",
              "      <th>addr</th>\n",
              "      <th>e</th>\n",
              "    </tr>\n",
              "  </thead>\n",
              "  <tbody>\n",
              "    <tr>\n",
              "      <th>0</th>\n",
              "      <td>40.297876</td>\n",
              "      <td>-75.581294</td>\n",
              "      <td>REINDEER CT &amp; DEAD END;  NEW HANOVER; Station ...</td>\n",
              "      <td>19525.0</td>\n",
              "      <td>EMS: BACK PAINS/INJURY</td>\n",
              "      <td>2015-12-10 17:40:00</td>\n",
              "      <td>NEW HANOVER</td>\n",
              "      <td>REINDEER CT &amp; DEAD END</td>\n",
              "      <td>1</td>\n",
              "    </tr>\n",
              "    <tr>\n",
              "      <th>1</th>\n",
              "      <td>40.258061</td>\n",
              "      <td>-75.264680</td>\n",
              "      <td>BRIAR PATH &amp; WHITEMARSH LN;  HATFIELD TOWNSHIP...</td>\n",
              "      <td>19446.0</td>\n",
              "      <td>EMS: DIABETIC EMERGENCY</td>\n",
              "      <td>2015-12-10 17:40:00</td>\n",
              "      <td>HATFIELD TOWNSHIP</td>\n",
              "      <td>BRIAR PATH &amp; WHITEMARSH LN</td>\n",
              "      <td>1</td>\n",
              "    </tr>\n",
              "    <tr>\n",
              "      <th>2</th>\n",
              "      <td>40.121182</td>\n",
              "      <td>-75.351975</td>\n",
              "      <td>HAWS AVE; NORRISTOWN; 2015-12-10 @ 14:39:21-St...</td>\n",
              "      <td>19401.0</td>\n",
              "      <td>Fire: GAS-ODOR/LEAK</td>\n",
              "      <td>2015-12-10 17:40:00</td>\n",
              "      <td>NORRISTOWN</td>\n",
              "      <td>HAWS AVE</td>\n",
              "      <td>1</td>\n",
              "    </tr>\n",
              "    <tr>\n",
              "      <th>3</th>\n",
              "      <td>40.116153</td>\n",
              "      <td>-75.343513</td>\n",
              "      <td>AIRY ST &amp; SWEDE ST;  NORRISTOWN; Station 308A;...</td>\n",
              "      <td>19401.0</td>\n",
              "      <td>EMS: CARDIAC EMERGENCY</td>\n",
              "      <td>2015-12-10 17:40:01</td>\n",
              "      <td>NORRISTOWN</td>\n",
              "      <td>AIRY ST &amp; SWEDE ST</td>\n",
              "      <td>1</td>\n",
              "    </tr>\n",
              "    <tr>\n",
              "      <th>4</th>\n",
              "      <td>40.251492</td>\n",
              "      <td>-75.603350</td>\n",
              "      <td>CHERRYWOOD CT &amp; DEAD END;  LOWER POTTSGROVE; S...</td>\n",
              "      <td>NaN</td>\n",
              "      <td>EMS: DIZZINESS</td>\n",
              "      <td>2015-12-10 17:40:01</td>\n",
              "      <td>LOWER POTTSGROVE</td>\n",
              "      <td>CHERRYWOOD CT &amp; DEAD END</td>\n",
              "      <td>1</td>\n",
              "    </tr>\n",
              "  </tbody>\n",
              "</table>\n",
              "</div>"
            ],
            "text/plain": [
              "         lat        lng  ...                        addr  e\n",
              "0  40.297876 -75.581294  ...      REINDEER CT & DEAD END  1\n",
              "1  40.258061 -75.264680  ...  BRIAR PATH & WHITEMARSH LN  1\n",
              "2  40.121182 -75.351975  ...                    HAWS AVE  1\n",
              "3  40.116153 -75.343513  ...          AIRY ST & SWEDE ST  1\n",
              "4  40.251492 -75.603350  ...    CHERRYWOOD CT & DEAD END  1\n",
              "\n",
              "[5 rows x 9 columns]"
            ]
          },
          "metadata": {
            "tags": []
          },
          "execution_count": 98
        }
      ]
    },
    {
      "cell_type": "code",
      "metadata": {
        "colab": {
          "base_uri": "https://localhost:8080/"
        },
        "id": "EZ2wqe8UFtO1",
        "outputId": "bc5da3c4-6362-4756-8223-61f953444139"
      },
      "source": [
        "#The total number of row entities or samples\n",
        "len(data)"
      ],
      "execution_count": 99,
      "outputs": [
        {
          "output_type": "execute_result",
          "data": {
            "text/plain": [
              "99492"
            ]
          },
          "metadata": {
            "tags": []
          },
          "execution_count": 99
        }
      ]
    },
    {
      "cell_type": "code",
      "metadata": {
        "colab": {
          "base_uri": "https://localhost:8080/"
        },
        "id": "MljjtZybFqGj",
        "outputId": "b8e42df4-b854-454d-eb0b-be88d61305af"
      },
      "source": [
        "#The total number of columns or features\n",
        "cols=data.columns\n",
        "cols"
      ],
      "execution_count": 100,
      "outputs": [
        {
          "output_type": "execute_result",
          "data": {
            "text/plain": [
              "Index(['lat', 'lng', 'desc', 'zip', 'title', 'timeStamp', 'twp', 'addr', 'e'], dtype='object')"
            ]
          },
          "metadata": {
            "tags": []
          },
          "execution_count": 100
        }
      ]
    },
    {
      "cell_type": "code",
      "metadata": {
        "id": "uedBOX0xUHFV",
        "colab": {
          "base_uri": "https://localhost:8080/"
        },
        "outputId": "33ca716e-5606-4482-eeae-f021f1c9a91b"
      },
      "source": [
        "#To find numeric columns in our dataset\n",
        "data_num = data._get_numeric_data()\n",
        "list(data_num)"
      ],
      "execution_count": 101,
      "outputs": [
        {
          "output_type": "execute_result",
          "data": {
            "text/plain": [
              "['lat', 'lng', 'zip', 'e']"
            ]
          },
          "metadata": {
            "tags": []
          },
          "execution_count": 101
        }
      ]
    },
    {
      "cell_type": "code",
      "metadata": {
        "colab": {
          "base_uri": "https://localhost:8080/"
        },
        "id": "hyyjJ3jzFpOA",
        "outputId": "af0e7d3a-85dc-4d5f-804a-e6bfdbf04829"
      },
      "source": [
        "#To find categorical columns in our dataset\n",
        "data_categorical=set(cols)-set(data_num)\n",
        "list(data_categorical)"
      ],
      "execution_count": 102,
      "outputs": [
        {
          "output_type": "execute_result",
          "data": {
            "text/plain": [
              "['twp', 'title', 'timeStamp', 'addr', 'desc']"
            ]
          },
          "metadata": {
            "tags": []
          },
          "execution_count": 102
        }
      ]
    },
    {
      "cell_type": "markdown",
      "metadata": {
        "id": "u4KvqlUVQ-se"
      },
      "source": [
        "###Zip_codes"
      ]
    },
    {
      "cell_type": "markdown",
      "metadata": {
        "id": "9DP4hNKqHVxG"
      },
      "source": [
        "Total number of zip counts"
      ]
    },
    {
      "cell_type": "code",
      "metadata": {
        "colab": {
          "base_uri": "https://localhost:8080/"
        },
        "id": "WqU8hX90HPM2",
        "outputId": "53771e1b-b02e-4589-a5dd-9458da750777"
      },
      "source": [
        "data['zip'].value_counts()  #104 zip codes"
      ],
      "execution_count": 103,
      "outputs": [
        {
          "output_type": "execute_result",
          "data": {
            "text/plain": [
              "19401.0    6979\n",
              "19464.0    6643\n",
              "19403.0    4854\n",
              "19446.0    4748\n",
              "19406.0    3174\n",
              "           ... \n",
              "77316.0       1\n",
              "19457.0       1\n",
              "19139.0       1\n",
              "19119.0       1\n",
              "17752.0       1\n",
              "Name: zip, Length: 104, dtype: int64"
            ]
          },
          "metadata": {
            "tags": []
          },
          "execution_count": 103
        }
      ]
    },
    {
      "cell_type": "markdown",
      "metadata": {
        "id": "KtEhr6doSlae"
      },
      "source": [
        "The top 10 zipcodes for 911 calls\n"
      ]
    },
    {
      "cell_type": "code",
      "metadata": {
        "id": "cDIwAxSiSlae",
        "colab": {
          "base_uri": "https://localhost:8080/"
        },
        "outputId": "a322df2a-6f24-4af2-de6b-4d7d35f2beb1"
      },
      "source": [
        "data['zip'].value_counts().head(10)"
      ],
      "execution_count": 104,
      "outputs": [
        {
          "output_type": "execute_result",
          "data": {
            "text/plain": [
              "19401.0    6979\n",
              "19464.0    6643\n",
              "19403.0    4854\n",
              "19446.0    4748\n",
              "19406.0    3174\n",
              "19002.0    3050\n",
              "19468.0    2990\n",
              "19454.0    2781\n",
              "19090.0    2635\n",
              "19038.0    2578\n",
              "Name: zip, dtype: int64"
            ]
          },
          "metadata": {
            "tags": []
          },
          "execution_count": 104
        }
      ]
    },
    {
      "cell_type": "markdown",
      "metadata": {
        "id": "V0T3sQDGRNKq"
      },
      "source": [
        "###Township(twp)"
      ]
    },
    {
      "cell_type": "markdown",
      "metadata": {
        "id": "RXT5B39CLJ5V"
      },
      "source": [
        "Total number of calls from different townships"
      ]
    },
    {
      "cell_type": "code",
      "metadata": {
        "colab": {
          "base_uri": "https://localhost:8080/"
        },
        "id": "fvaVUaFVLJg5",
        "outputId": "3dd33999-f561-443f-87b9-d170bfab38d9"
      },
      "source": [
        "data['twp'].value_counts()  #68 townships"
      ],
      "execution_count": 105,
      "outputs": [
        {
          "output_type": "execute_result",
          "data": {
            "text/plain": [
              "LOWER MERION     8443\n",
              "ABINGTON         5977\n",
              "NORRISTOWN       5890\n",
              "UPPER MERION     5227\n",
              "CHELTENHAM       4575\n",
              "                 ... \n",
              "BRYN ATHYN        173\n",
              "SALFORD           163\n",
              "GREEN LANE         51\n",
              "PHILA COUNTY       43\n",
              "LEHIGH COUNTY      30\n",
              "Name: twp, Length: 68, dtype: int64"
            ]
          },
          "metadata": {
            "tags": []
          },
          "execution_count": 105
        }
      ]
    },
    {
      "cell_type": "markdown",
      "metadata": {
        "id": "NkYrQtTxSlae"
      },
      "source": [
        " The top 10 townships (twp) for 911 calls"
      ]
    },
    {
      "cell_type": "code",
      "metadata": {
        "id": "63S64WmTSlae",
        "colab": {
          "base_uri": "https://localhost:8080/"
        },
        "outputId": "115f6b12-f06f-4d64-8662-3796c60df44e"
      },
      "source": [
        "data['twp'].value_counts().head(10)"
      ],
      "execution_count": 106,
      "outputs": [
        {
          "output_type": "execute_result",
          "data": {
            "text/plain": [
              "LOWER MERION        8443\n",
              "ABINGTON            5977\n",
              "NORRISTOWN          5890\n",
              "UPPER MERION        5227\n",
              "CHELTENHAM          4575\n",
              "POTTSTOWN           4146\n",
              "UPPER MORELAND      3434\n",
              "LOWER PROVIDENCE    3225\n",
              "PLYMOUTH            3158\n",
              "HORSHAM             3003\n",
              "Name: twp, dtype: int64"
            ]
          },
          "metadata": {
            "tags": []
          },
          "execution_count": 106
        }
      ]
    },
    {
      "cell_type": "markdown",
      "metadata": {
        "id": "-lDfnMs2RU1S"
      },
      "source": [
        "###Title"
      ]
    },
    {
      "cell_type": "code",
      "metadata": {
        "id": "vVK7TRuVSlaf",
        "colab": {
          "base_uri": "https://localhost:8080/"
        },
        "outputId": "0cc21071-4fd1-44bc-8bbe-99fd97617206"
      },
      "source": [
        "data['title'].nunique() #gives the number of unique townships"
      ],
      "execution_count": 107,
      "outputs": [
        {
          "output_type": "execute_result",
          "data": {
            "text/plain": [
              "110"
            ]
          },
          "metadata": {
            "tags": []
          },
          "execution_count": 107
        }
      ]
    },
    {
      "cell_type": "markdown",
      "metadata": {
        "id": "XzGySeAON1Cz"
      },
      "source": [
        "All the Titles of the calls received"
      ]
    },
    {
      "cell_type": "code",
      "metadata": {
        "colab": {
          "base_uri": "https://localhost:8080/"
        },
        "id": "FtPl7u5RN0vr",
        "outputId": "477b53de-0d7e-4640-bd3a-17f80aa9895e"
      },
      "source": [
        "data['title'].value_counts() #shows top 5 and least 5 titles of 911 calls"
      ],
      "execution_count": 108,
      "outputs": [
        {
          "output_type": "execute_result",
          "data": {
            "text/plain": [
              "Traffic: VEHICLE ACCIDENT -        23066\n",
              "Traffic: DISABLED VEHICLE -         7702\n",
              "Fire: FIRE ALARM                    5496\n",
              "EMS: RESPIRATORY EMERGENCY          5112\n",
              "EMS: CARDIAC EMERGENCY              5012\n",
              "                                   ...  \n",
              "Fire: SYNCOPAL EPISODE                 1\n",
              "Fire: UNKNOWN MEDICAL EMERGENCY        1\n",
              "Fire: UNCONSCIOUS SUBJECT              1\n",
              "Fire: DIABETIC EMERGENCY               1\n",
              "EMS: DISABLED VEHICLE                  1\n",
              "Name: title, Length: 110, dtype: int64"
            ]
          },
          "metadata": {
            "tags": []
          },
          "execution_count": 108
        }
      ]
    },
    {
      "cell_type": "markdown",
      "metadata": {
        "id": "wdonKgKPRakw"
      },
      "source": [
        "####Department"
      ]
    },
    {
      "cell_type": "code",
      "metadata": {
        "collapsed": true,
        "id": "a_sjMn-hSlag"
      },
      "source": [
        "data['Department'] = data['title'].apply(lambda title: title.split(':')[0])"
      ],
      "execution_count": 109,
      "outputs": []
    },
    {
      "cell_type": "code",
      "metadata": {
        "colab": {
          "base_uri": "https://localhost:8080/"
        },
        "id": "BwCNHbtqUm32",
        "outputId": "a5e371a9-c148-426d-dc2c-4606adc0e57b"
      },
      "source": [
        "#shows the Reason new column which has the reasons specified\n",
        "data['Department']"
      ],
      "execution_count": 110,
      "outputs": [
        {
          "output_type": "execute_result",
          "data": {
            "text/plain": [
              "0            EMS\n",
              "1            EMS\n",
              "2           Fire\n",
              "3            EMS\n",
              "4            EMS\n",
              "          ...   \n",
              "99487    Traffic\n",
              "99488    Traffic\n",
              "99489        EMS\n",
              "99490        EMS\n",
              "99491    Traffic\n",
              "Name: Department, Length: 99492, dtype: object"
            ]
          },
          "metadata": {
            "tags": []
          },
          "execution_count": 110
        }
      ]
    },
    {
      "cell_type": "code",
      "metadata": {
        "colab": {
          "base_uri": "https://localhost:8080/"
        },
        "id": "KpIsTFC3Rn7h",
        "outputId": "d625870f-3bd1-453b-b65e-f52d892baa16"
      },
      "source": [
        "data['Department'].value_counts()  \n",
        "#Most calls - EMS\n",
        "#Least calls - Fire"
      ],
      "execution_count": 111,
      "outputs": [
        {
          "output_type": "execute_result",
          "data": {
            "text/plain": [
              "EMS        48877\n",
              "Traffic    35695\n",
              "Fire       14920\n",
              "Name: Department, dtype: int64"
            ]
          },
          "metadata": {
            "tags": []
          },
          "execution_count": 111
        }
      ]
    },
    {
      "cell_type": "code",
      "metadata": {
        "colab": {
          "base_uri": "https://localhost:8080/",
          "height": 279
        },
        "id": "kJex9LEeRlLl",
        "outputId": "6d47d630-f4a3-420b-9c37-91306573f2a2"
      },
      "source": [
        "sns.countplot(x='Department',data=data,palette='bright')\n",
        "plt.show()"
      ],
      "execution_count": 112,
      "outputs": [
        {
          "output_type": "display_data",
          "data": {
            "image/png": "[encoded data removed]",
            "text/plain": [
              "<Figure size 432x288 with 1 Axes>"
            ]
          },
          "metadata": {
            "tags": [],
            "needs_background": "light"
          }
        }
      ]
    },
    {
      "cell_type": "markdown",
      "metadata": {
        "id": "8_hOmCl5Rd6C"
      },
      "source": [
        "####cause"
      ]
    },
    {
      "cell_type": "code",
      "metadata": {
        "id": "9WqD1X7jP54_"
      },
      "source": [
        "data['cause'] = data['title'].apply(lambda title: title.split(':')[1])"
      ],
      "execution_count": 113,
      "outputs": []
    },
    {
      "cell_type": "code",
      "metadata": {
        "colab": {
          "base_uri": "https://localhost:8080/"
        },
        "id": "_JS3OYuOQBm5",
        "outputId": "5a6fce00-2087-4f07-f145-325ec48ab79b"
      },
      "source": [
        "data['cause']"
      ],
      "execution_count": 114,
      "outputs": [
        {
          "output_type": "execute_result",
          "data": {
            "text/plain": [
              "0          BACK PAINS/INJURY\n",
              "1         DIABETIC EMERGENCY\n",
              "2              GAS-ODOR/LEAK\n",
              "3          CARDIAC EMERGENCY\n",
              "4                  DIZZINESS\n",
              "                ...         \n",
              "99487     VEHICLE ACCIDENT -\n",
              "99488     VEHICLE ACCIDENT -\n",
              "99489            FALL VICTIM\n",
              "99490        NAUSEA/VOMITING\n",
              "99491     VEHICLE ACCIDENT -\n",
              "Name: cause, Length: 99492, dtype: object"
            ]
          },
          "metadata": {
            "tags": []
          },
          "execution_count": 114
        }
      ]
    },
    {
      "cell_type": "code",
      "metadata": {
        "colab": {
          "base_uri": "https://localhost:8080/"
        },
        "id": "ldXo2iMzZaAL",
        "outputId": "bd966473-d75b-4cb5-a736-d755ddad6f22"
      },
      "source": [
        "data['cause'].value_counts()\n",
        "#Most Cause - Vehicle accident\n",
        "#Least cause - disabled vehicle"
      ],
      "execution_count": 115,
      "outputs": [
        {
          "output_type": "execute_result",
          "data": {
            "text/plain": [
              " VEHICLE ACCIDENT -       23066\n",
              " DISABLED VEHICLE -        7702\n",
              " VEHICLE ACCIDENT          5573\n",
              " FIRE ALARM                5510\n",
              " RESPIRATORY EMERGENCY     5112\n",
              "                          ...  \n",
              " POLICE INFORMATION           2\n",
              " ACTIVE SHOOTER               2\n",
              " PLANE CRASH                  2\n",
              " DISABLED VEHICLE             1\n",
              " BOMB DEVICE FOUND            1\n",
              "Name: cause, Length: 81, dtype: int64"
            ]
          },
          "metadata": {
            "tags": []
          },
          "execution_count": 115
        }
      ]
    },
    {
      "cell_type": "markdown",
      "metadata": {
        "id": "HgvVh4kKSlag"
      },
      "source": [
        " The most common Reason for a 911 call based off of this new column \n",
        " "
      ]
    },
    {
      "cell_type": "code",
      "metadata": {
        "colab": {
          "base_uri": "https://localhost:8080/"
        },
        "id": "gQ00fbhFSdd8",
        "outputId": "f34a2a73-85eb-4e6e-9bcc-56eeea310ec9"
      },
      "source": [
        "top_cause=data['cause'].value_counts().iloc[:40].index\n",
        "top_cause  #top 40 cause counts"
      ],
      "execution_count": 116,
      "outputs": [
        {
          "output_type": "execute_result",
          "data": {
            "text/plain": [
              "Index([' VEHICLE ACCIDENT -', ' DISABLED VEHICLE -', ' VEHICLE ACCIDENT',\n",
              "       ' FIRE ALARM', ' RESPIRATORY EMERGENCY', ' CARDIAC EMERGENCY',\n",
              "       ' FALL VICTIM', ' ROAD OBSTRUCTION -', ' SUBJECT IN PAIN',\n",
              "       ' HEAD INJURY', ' UNKNOWN MEDICAL EMERGENCY', ' SYNCOPAL EPISODE',\n",
              "       ' SEIZURES', ' FIRE INVESTIGATION', ' GENERAL WEAKNESS',\n",
              "       ' ABDOMINAL PAINS', ' ALTERED MENTAL STATUS', ' MEDICAL ALERT ALARM',\n",
              "       ' HEMORRHAGING', ' CVA/STROKE', ' OVERDOSE', ' NAUSEA/VOMITING',\n",
              "       ' UNCONSCIOUS SUBJECT', ' HAZARDOUS ROAD CONDITIONS -',\n",
              "       ' GAS-ODOR/LEAK', ' BUILDING FIRE', ' DIABETIC EMERGENCY', ' DIZZINESS',\n",
              "       ' BACK PAINS/INJURY', ' FIRE SPECIAL SERVICE', ' UNRESPONSIVE SUBJECT',\n",
              "       ' ASSAULT VICTIM', ' CARBON MONOXIDE DETECTOR', ' FRACTURE',\n",
              "       ' ELECTRICAL FIRE OUTSIDE', ' VEHICLE FIRE -', ' VEHICLE FIRE',\n",
              "       ' WOODS/FIELD FIRE', ' CARDIAC ARREST', ' LACERATIONS'],\n",
              "      dtype='object')"
            ]
          },
          "metadata": {
            "tags": []
          },
          "execution_count": 116
        }
      ]
    },
    {
      "cell_type": "code",
      "metadata": {
        "colab": {
          "base_uri": "https://localhost:8080/",
          "height": 395
        },
        "id": "wbotsxOdQthF",
        "outputId": "3da50a95-7ba9-473f-820f-d34a68e34e14"
      },
      "source": [
        "#Analyzing the top causes of the new 'cause' column in 'title' cloumn\n",
        "plt.figure(figsize=(22,10))\n",
        "sns.countplot(y='cause',order=top_cause,data=data,palette='bright')\n",
        "plt.show()"
      ],
      "execution_count": 117,
      "outputs": [
        {
          "output_type": "display_data",
          "data": {
            "image/png": "[encoded data removed]",
            "text/plain": [
              "<Figure size 1584x720 with 1 Axes>"
            ]
          },
          "metadata": {
            "tags": [],
            "needs_background": "light"
          }
        }
      ]
    },
    {
      "cell_type": "code",
      "metadata": {
        "colab": {
          "base_uri": "https://localhost:8080/"
        },
        "id": "QBren67zgzvs",
        "outputId": "e2b6011e-3a3b-4bea-d05f-547058862966"
      },
      "source": [
        "data_ems=data[data['Department']=='EMS']['cause']\n",
        "data_ems"
      ],
      "execution_count": 118,
      "outputs": [
        {
          "output_type": "execute_result",
          "data": {
            "text/plain": [
              "0          BACK PAINS/INJURY\n",
              "1         DIABETIC EMERGENCY\n",
              "3          CARDIAC EMERGENCY\n",
              "4                  DIZZINESS\n",
              "5                HEAD INJURY\n",
              "                ...         \n",
              "99480     DIABETIC EMERGENCY\n",
              "99481              DIZZINESS\n",
              "99483      BACK PAINS/INJURY\n",
              "99489            FALL VICTIM\n",
              "99490        NAUSEA/VOMITING\n",
              "Name: cause, Length: 48877, dtype: object"
            ]
          },
          "metadata": {
            "tags": []
          },
          "execution_count": 118
        }
      ]
    },
    {
      "cell_type": "code",
      "metadata": {
        "colab": {
          "base_uri": "https://localhost:8080/"
        },
        "id": "aWbI9TZqacUC",
        "outputId": "6a4cbaa3-b1f5-4f0d-f41d-a27ca90ad448"
      },
      "source": [
        "data_ems.value_counts()"
      ],
      "execution_count": 119,
      "outputs": [
        {
          "output_type": "execute_result",
          "data": {
            "text/plain": [
              " RESPIRATORY EMERGENCY    5112\n",
              " CARDIAC EMERGENCY        5012\n",
              " FALL VICTIM              4863\n",
              " VEHICLE ACCIDENT         3935\n",
              " SUBJECT IN PAIN          2687\n",
              "                          ... \n",
              " WARRANT SERVICE             2\n",
              " ELECTROCUTION               2\n",
              " PLANE CRASH                 1\n",
              " DISABLED VEHICLE            1\n",
              " BOMB DEVICE FOUND           1\n",
              "Name: cause, Length: 68, dtype: int64"
            ]
          },
          "metadata": {
            "tags": []
          },
          "execution_count": 119
        }
      ]
    },
    {
      "cell_type": "code",
      "metadata": {
        "colab": {
          "base_uri": "https://localhost:8080/",
          "height": 513
        },
        "id": "w6DS5qDmi8IL",
        "outputId": "4b23ab43-7ec5-4bf1-a8a4-e0d33b8095d2"
      },
      "source": [
        "plt.figure(figsize=(12,8))\n",
        "plt.title('EMS')\n",
        "sns.countplot(y=data_ems,order=data_ems.value_counts().iloc[:40].index)\n",
        "plt.show()\n",
        "#The Department EMS most cause is 'RESPIRATORY EMERGENCY' and least cause is 'DISABLED VEHICLE,PLANE CRASH,BOMB DEVICE FOUND'"
      ],
      "execution_count": 120,
      "outputs": [
        {
          "output_type": "display_data",
          "data": {
            "image/png": "[encoded data removed]",
            "text/plain": [
              "<Figure size 864x576 with 1 Axes>"
            ]
          },
          "metadata": {
            "tags": [],
            "needs_background": "light"
          }
        }
      ]
    },
    {
      "cell_type": "code",
      "metadata": {
        "colab": {
          "base_uri": "https://localhost:8080/"
        },
        "id": "dKrz2tGciN5Y",
        "outputId": "38c58ea9-ffae-44e5-e9e0-2e3b455a27ce"
      },
      "source": [
        "data_traffic=data[data['Department']=='Traffic']['cause']\n",
        "data_traffic\n"
      ],
      "execution_count": 121,
      "outputs": [
        {
          "output_type": "execute_result",
          "data": {
            "text/plain": [
              "9         VEHICLE ACCIDENT -\n",
              "10        VEHICLE ACCIDENT -\n",
              "11        VEHICLE ACCIDENT -\n",
              "12        VEHICLE ACCIDENT -\n",
              "13        VEHICLE ACCIDENT -\n",
              "                ...         \n",
              "99485     DISABLED VEHICLE -\n",
              "99486     VEHICLE ACCIDENT -\n",
              "99487     VEHICLE ACCIDENT -\n",
              "99488     VEHICLE ACCIDENT -\n",
              "99491     VEHICLE ACCIDENT -\n",
              "Name: cause, Length: 35695, dtype: object"
            ]
          },
          "metadata": {
            "tags": []
          },
          "execution_count": 121
        }
      ]
    },
    {
      "cell_type": "code",
      "metadata": {
        "colab": {
          "base_uri": "https://localhost:8080/"
        },
        "id": "z5EJZmqYa5uw",
        "outputId": "7d20d164-0753-4d12-94ba-d245446f18ac"
      },
      "source": [
        "data_traffic.value_counts()\n",
        "#The Department 'traffic' most cause is 'VEHICLE ACCIDENT' and least cause is ' DEBRIS/FLUIDS ON HIGHWAY'"
      ],
      "execution_count": 122,
      "outputs": [
        {
          "output_type": "execute_result",
          "data": {
            "text/plain": [
              " VEHICLE ACCIDENT -             23066\n",
              " DISABLED VEHICLE -              7702\n",
              " ROAD OBSTRUCTION -              3144\n",
              " HAZARDOUS ROAD CONDITIONS -     1086\n",
              " VEHICLE FIRE -                   553\n",
              " VEHICLE LEAKING FUEL -            77\n",
              " DEBRIS/FLUIDS ON HIGHWAY -        67\n",
              "Name: cause, dtype: int64"
            ]
          },
          "metadata": {
            "tags": []
          },
          "execution_count": 122
        }
      ]
    },
    {
      "cell_type": "code",
      "metadata": {
        "colab": {
          "base_uri": "https://localhost:8080/",
          "height": 530
        },
        "id": "KSxi4wOMkatg",
        "outputId": "45bae5ac-9495-4cb4-9069-8cb54cc277fc"
      },
      "source": [
        "plt.figure(figsize=(12,8))\n",
        "plt.title('Traffic')\n",
        "sns.countplot(y=data_traffic,order=data_traffic.value_counts().iloc[:40].index)"
      ],
      "execution_count": 123,
      "outputs": [
        {
          "output_type": "execute_result",
          "data": {
            "text/plain": [
              "<matplotlib.axes._subplots.AxesSubplot at 0x7feea160aad0>"
            ]
          },
          "metadata": {
            "tags": []
          },
          "execution_count": 123
        },
        {
          "output_type": "display_data",
          "data": {
            "image/png": "[encoded data removed]",
            "text/plain": [
              "<Figure size 864x576 with 1 Axes>"
            ]
          },
          "metadata": {
            "tags": [],
            "needs_background": "light"
          }
        }
      ]
    },
    {
      "cell_type": "code",
      "metadata": {
        "colab": {
          "base_uri": "https://localhost:8080/"
        },
        "id": "yfMxmziviOl6",
        "outputId": "d9c984fc-309c-454a-c5b9-b446a8831055"
      },
      "source": [
        "data_fire=data[data['Department']=='Fire']['cause']\n",
        "data_fire\n"
      ],
      "execution_count": 124,
      "outputs": [
        {
          "output_type": "execute_result",
          "data": {
            "text/plain": [
              "2                    GAS-ODOR/LEAK\n",
              "22                  APPLIANCE FIRE\n",
              "27        CARBON MONOXIDE DETECTOR\n",
              "41                   GAS-ODOR/LEAK\n",
              "47                VEHICLE ACCIDENT\n",
              "                   ...            \n",
              "99450                   FIRE ALARM\n",
              "99453             VEHICLE ACCIDENT\n",
              "99468                   FIRE ALARM\n",
              "99469                   FIRE ALARM\n",
              "99484                   FIRE ALARM\n",
              "Name: cause, Length: 14920, dtype: object"
            ]
          },
          "metadata": {
            "tags": []
          },
          "execution_count": 124
        }
      ]
    },
    {
      "cell_type": "code",
      "metadata": {
        "colab": {
          "base_uri": "https://localhost:8080/"
        },
        "id": "gfyVtIZgbPF4",
        "outputId": "ce999244-cad9-4152-bb35-f2aedc87ff90"
      },
      "source": [
        "data_fire.value_counts()\n",
        "#The Department 'fire' most cause is FIRE ALARM and least cause is 'DIABETIC EMERGENCY (few others) '"
      ],
      "execution_count": 125,
      "outputs": [
        {
          "output_type": "execute_result",
          "data": {
            "text/plain": [
              " FIRE ALARM                      5496\n",
              " VEHICLE ACCIDENT                1638\n",
              " FIRE INVESTIGATION              1460\n",
              " GAS-ODOR/LEAK                   1028\n",
              " BUILDING FIRE                    807\n",
              " FIRE SPECIAL SERVICE             666\n",
              " ELECTRICAL FIRE OUTSIDE          622\n",
              " CARBON MONOXIDE DETECTOR         575\n",
              " VEHICLE FIRE                     516\n",
              " WOODS/FIELD FIRE                 514\n",
              " UNKNOWN TYPE FIRE                322\n",
              " TRASH/DUMPSTER FIRE              229\n",
              " FIRE POLICE NEEDED               215\n",
              " APPLIANCE FIRE                   182\n",
              " RESCUE - ELEVATOR                178\n",
              " S/B AT HELICOPTER LANDING        104\n",
              " VEHICLE LEAKING FUEL              73\n",
              " DEBRIS/FLUIDS ON HIGHWAY          72\n",
              " RESCUE - GENERAL                  47\n",
              " CARDIAC ARREST                    42\n",
              " BURN VICTIM                       39\n",
              " PUMP DETAIL                       25\n",
              " TRANSFERRED CALL                  23\n",
              " RESCUE - WATER                    16\n",
              " RESCUE - TECHNICAL                10\n",
              " TRAIN CRASH                        5\n",
              " HAZARDOUS MATERIALS INCIDENT       5\n",
              " EMS SPECIAL SERVICE                2\n",
              " MEDICAL ALERT ALARM                2\n",
              " POLICE INFORMATION                 2\n",
              " PLANE CRASH                        1\n",
              " SYNCOPAL EPISODE                   1\n",
              " UNKNOWN MEDICAL EMERGENCY          1\n",
              " DIABETIC EMERGENCY                 1\n",
              " UNCONSCIOUS SUBJECT                1\n",
              "Name: cause, dtype: int64"
            ]
          },
          "metadata": {
            "tags": []
          },
          "execution_count": 125
        }
      ]
    },
    {
      "cell_type": "code",
      "metadata": {
        "colab": {
          "base_uri": "https://localhost:8080/",
          "height": 513
        },
        "id": "Hm-uvfd8kisU",
        "outputId": "9377007f-91ec-4b24-a055-8f3d8d707578"
      },
      "source": [
        "plt.figure(figsize=(12,8))\n",
        "plt.title('Fire')\n",
        "sns.countplot(y=data_fire,order=data_fire.value_counts().iloc[:30].index)\n",
        "plt.show()"
      ],
      "execution_count": 126,
      "outputs": [
        {
          "output_type": "display_data",
          "data": {
            "image/png": "[encoded data removed]",
            "text/plain": [
              "<Figure size 864x576 with 1 Axes>"
            ]
          },
          "metadata": {
            "tags": [],
            "needs_background": "light"
          }
        }
      ]
    },
    {
      "cell_type": "markdown",
      "metadata": {
        "id": "AKe2FtIeR8aY"
      },
      "source": [
        "###TimeStamp"
      ]
    },
    {
      "cell_type": "markdown",
      "metadata": {
        "id": "ncnWwr_ZSlah"
      },
      "source": [
        "Time information: "
      ]
    },
    {
      "cell_type": "code",
      "metadata": {
        "id": "U1Os1KTeSlah",
        "colab": {
          "base_uri": "https://localhost:8080/"
        },
        "outputId": "b135e358-88d9-4c79-cd5e-e3728bc4343d"
      },
      "source": [
        "#The data type of the objects in the timeStamp column\n",
        "type(data['timeStamp'].iloc[0])\n"
      ],
      "execution_count": 127,
      "outputs": [
        {
          "output_type": "execute_result",
          "data": {
            "text/plain": [
              "str"
            ]
          },
          "metadata": {
            "tags": []
          },
          "execution_count": 127
        }
      ]
    },
    {
      "cell_type": "code",
      "metadata": {
        "collapsed": true,
        "id": "rDmd1KQ-Slai"
      },
      "source": [
        "#since these are strings,we covert it into DateTime Object using pd_todatetime\n",
        "data['timeStamp'] = pd.to_datetime(data['timeStamp'])"
      ],
      "execution_count": 128,
      "outputs": []
    },
    {
      "cell_type": "code",
      "metadata": {
        "colab": {
          "base_uri": "https://localhost:8080/"
        },
        "id": "dse1UC9qO6l2",
        "outputId": "197a0589-98b6-4fb2-d3d3-de8fc6d03cfa"
      },
      "source": [
        "type(data['timeStamp'].iloc[0])\n",
        "#coverted to timestaamp object"
      ],
      "execution_count": 129,
      "outputs": [
        {
          "output_type": "execute_result",
          "data": {
            "text/plain": [
              "pandas._libs.tslibs.timestamps.Timestamp"
            ]
          },
          "metadata": {
            "tags": []
          },
          "execution_count": 129
        }
      ]
    },
    {
      "cell_type": "code",
      "metadata": {
        "colab": {
          "base_uri": "https://localhost:8080/"
        },
        "id": "zpGsw44lWNqr",
        "outputId": "0c38c57d-4e33-4f6a-959e-8a2328459eb7"
      },
      "source": [
        "#takes attributes from Datatime Object by calling them\n",
        "time=data['timeStamp'].iloc[0] #example taken from first timeStamp\n",
        "print(time.hour)\n",
        "print(time.month)\n",
        "print(time.dayofweek)\n",
        "print(time.date())\n",
        "print(time.year)"
      ],
      "execution_count": 130,
      "outputs": [
        {
          "output_type": "stream",
          "text": [
            "17\n",
            "12\n",
            "3\n",
            "2015-12-10\n",
            "2015\n"
          ],
          "name": "stdout"
        }
      ]
    },
    {
      "cell_type": "code",
      "metadata": {
        "id": "bMqZn3PdSlai"
      },
      "source": [
        "data['Date'] = data['timeStamp'].apply(lambda t: t.date())\n",
        "data['Hour'] = data['timeStamp'].apply(lambda t: t.hour)\n",
        "data['Month'] = data['timeStamp'].apply(lambda t: t.month)\n",
        "data['Year'] = data['timeStamp'].apply(lambda x: x.year)\n",
        "data['Day'] = data['timeStamp'].apply(lambda t: t.dayofweek)"
      ],
      "execution_count": 131,
      "outputs": []
    },
    {
      "cell_type": "code",
      "metadata": {
        "colab": {
          "base_uri": "https://localhost:8080/",
          "height": 1000
        },
        "id": "7_r2mUko6kqL",
        "outputId": "87ddcf83-bcaa-436c-8ab4-234adc39b999"
      },
      "source": [
        "data_with_timestamps = pd.DataFrame(data)\n",
        "data_with_timestamps "
      ],
      "execution_count": 132,
      "outputs": [
        {
          "output_type": "execute_result",
          "data": {
            "text/html": [
              "<div>\n",
              "<style scoped>\n",
              "    .dataframe tbody tr th:only-of-type {\n",
              "        vertical-align: middle;\n",
              "    }\n",
              "\n",
              "    .dataframe tbody tr th {\n",
              "        vertical-align: top;\n",
              "    }\n",
              "\n",
              "    .dataframe thead th {\n",
              "        text-align: right;\n",
              "    }\n",
              "</style>\n",
              "<table border=\"1\" class=\"dataframe\">\n",
              "  <thead>\n",
              "    <tr style=\"text-align: right;\">\n",
              "      <th></th>\n",
              "      <th>lat</th>\n",
              "      <th>lng</th>\n",
              "      <th>desc</th>\n",
              "      <th>zip</th>\n",
              "      <th>title</th>\n",
              "      <th>timeStamp</th>\n",
              "      <th>twp</th>\n",
              "      <th>addr</th>\n",
              "      <th>e</th>\n",
              "      <th>Department</th>\n",
              "      <th>cause</th>\n",
              "      <th>Date</th>\n",
              "      <th>Hour</th>\n",
              "      <th>Month</th>\n",
              "      <th>Year</th>\n",
              "      <th>Day</th>\n",
              "    </tr>\n",
              "  </thead>\n",
              "  <tbody>\n",
              "    <tr>\n",
              "      <th>0</th>\n",
              "      <td>40.297876</td>\n",
              "      <td>-75.581294</td>\n",
              "      <td>REINDEER CT &amp; DEAD END;  NEW HANOVER; Station ...</td>\n",
              "      <td>19525.0</td>\n",
              "      <td>EMS: BACK PAINS/INJURY</td>\n",
              "      <td>2015-12-10 17:40:00</td>\n",
              "      <td>NEW HANOVER</td>\n",
              "      <td>REINDEER CT &amp; DEAD END</td>\n",
              "      <td>1</td>\n",
              "      <td>EMS</td>\n",
              "      <td>BACK PAINS/INJURY</td>\n",
              "      <td>2015-12-10</td>\n",
              "      <td>17</td>\n",
              "      <td>12</td>\n",
              "      <td>2015</td>\n",
              "      <td>3</td>\n",
              "    </tr>\n",
              "    <tr>\n",
              "      <th>1</th>\n",
              "      <td>40.258061</td>\n",
              "      <td>-75.264680</td>\n",
              "      <td>BRIAR PATH &amp; WHITEMARSH LN;  HATFIELD TOWNSHIP...</td>\n",
              "      <td>19446.0</td>\n",
              "      <td>EMS: DIABETIC EMERGENCY</td>\n",
              "      <td>2015-12-10 17:40:00</td>\n",
              "      <td>HATFIELD TOWNSHIP</td>\n",
              "      <td>BRIAR PATH &amp; WHITEMARSH LN</td>\n",
              "      <td>1</td>\n",
              "      <td>EMS</td>\n",
              "      <td>DIABETIC EMERGENCY</td>\n",
              "      <td>2015-12-10</td>\n",
              "      <td>17</td>\n",
              "      <td>12</td>\n",
              "      <td>2015</td>\n",
              "      <td>3</td>\n",
              "    </tr>\n",
              "    <tr>\n",
              "      <th>2</th>\n",
              "      <td>40.121182</td>\n",
              "      <td>-75.351975</td>\n",
              "      <td>HAWS AVE; NORRISTOWN; 2015-12-10 @ 14:39:21-St...</td>\n",
              "      <td>19401.0</td>\n",
              "      <td>Fire: GAS-ODOR/LEAK</td>\n",
              "      <td>2015-12-10 17:40:00</td>\n",
              "      <td>NORRISTOWN</td>\n",
              "      <td>HAWS AVE</td>\n",
              "      <td>1</td>\n",
              "      <td>Fire</td>\n",
              "      <td>GAS-ODOR/LEAK</td>\n",
              "      <td>2015-12-10</td>\n",
              "      <td>17</td>\n",
              "      <td>12</td>\n",
              "      <td>2015</td>\n",
              "      <td>3</td>\n",
              "    </tr>\n",
              "    <tr>\n",
              "      <th>3</th>\n",
              "      <td>40.116153</td>\n",
              "      <td>-75.343513</td>\n",
              "      <td>AIRY ST &amp; SWEDE ST;  NORRISTOWN; Station 308A;...</td>\n",
              "      <td>19401.0</td>\n",
              "      <td>EMS: CARDIAC EMERGENCY</td>\n",
              "      <td>2015-12-10 17:40:01</td>\n",
              "      <td>NORRISTOWN</td>\n",
              "      <td>AIRY ST &amp; SWEDE ST</td>\n",
              "      <td>1</td>\n",
              "      <td>EMS</td>\n",
              "      <td>CARDIAC EMERGENCY</td>\n",
              "      <td>2015-12-10</td>\n",
              "      <td>17</td>\n",
              "      <td>12</td>\n",
              "      <td>2015</td>\n",
              "      <td>3</td>\n",
              "    </tr>\n",
              "    <tr>\n",
              "      <th>4</th>\n",
              "      <td>40.251492</td>\n",
              "      <td>-75.603350</td>\n",
              "      <td>CHERRYWOOD CT &amp; DEAD END;  LOWER POTTSGROVE; S...</td>\n",
              "      <td>NaN</td>\n",
              "      <td>EMS: DIZZINESS</td>\n",
              "      <td>2015-12-10 17:40:01</td>\n",
              "      <td>LOWER POTTSGROVE</td>\n",
              "      <td>CHERRYWOOD CT &amp; DEAD END</td>\n",
              "      <td>1</td>\n",
              "      <td>EMS</td>\n",
              "      <td>DIZZINESS</td>\n",
              "      <td>2015-12-10</td>\n",
              "      <td>17</td>\n",
              "      <td>12</td>\n",
              "      <td>2015</td>\n",
              "      <td>3</td>\n",
              "    </tr>\n",
              "    <tr>\n",
              "      <th>...</th>\n",
              "      <td>...</td>\n",
              "      <td>...</td>\n",
              "      <td>...</td>\n",
              "      <td>...</td>\n",
              "      <td>...</td>\n",
              "      <td>...</td>\n",
              "      <td>...</td>\n",
              "      <td>...</td>\n",
              "      <td>...</td>\n",
              "      <td>...</td>\n",
              "      <td>...</td>\n",
              "      <td>...</td>\n",
              "      <td>...</td>\n",
              "      <td>...</td>\n",
              "      <td>...</td>\n",
              "      <td>...</td>\n",
              "    </tr>\n",
              "    <tr>\n",
              "      <th>99487</th>\n",
              "      <td>40.132869</td>\n",
              "      <td>-75.333515</td>\n",
              "      <td>MARKLEY ST &amp; W LOGAN ST; NORRISTOWN; 2016-08-2...</td>\n",
              "      <td>19401.0</td>\n",
              "      <td>Traffic: VEHICLE ACCIDENT -</td>\n",
              "      <td>2016-08-24 11:06:00</td>\n",
              "      <td>NORRISTOWN</td>\n",
              "      <td>MARKLEY ST &amp; W LOGAN ST</td>\n",
              "      <td>1</td>\n",
              "      <td>Traffic</td>\n",
              "      <td>VEHICLE ACCIDENT -</td>\n",
              "      <td>2016-08-24</td>\n",
              "      <td>11</td>\n",
              "      <td>8</td>\n",
              "      <td>2016</td>\n",
              "      <td>2</td>\n",
              "    </tr>\n",
              "    <tr>\n",
              "      <th>99488</th>\n",
              "      <td>40.006974</td>\n",
              "      <td>-75.289080</td>\n",
              "      <td>LANCASTER AVE &amp; RITTENHOUSE PL; LOWER MERION; ...</td>\n",
              "      <td>19003.0</td>\n",
              "      <td>Traffic: VEHICLE ACCIDENT -</td>\n",
              "      <td>2016-08-24 11:07:02</td>\n",
              "      <td>LOWER MERION</td>\n",
              "      <td>LANCASTER AVE &amp; RITTENHOUSE PL</td>\n",
              "      <td>1</td>\n",
              "      <td>Traffic</td>\n",
              "      <td>VEHICLE ACCIDENT -</td>\n",
              "      <td>2016-08-24</td>\n",
              "      <td>11</td>\n",
              "      <td>8</td>\n",
              "      <td>2016</td>\n",
              "      <td>2</td>\n",
              "    </tr>\n",
              "    <tr>\n",
              "      <th>99489</th>\n",
              "      <td>40.115429</td>\n",
              "      <td>-75.334679</td>\n",
              "      <td>CHESTNUT ST &amp; WALNUT ST;  NORRISTOWN; Station ...</td>\n",
              "      <td>19401.0</td>\n",
              "      <td>EMS: FALL VICTIM</td>\n",
              "      <td>2016-08-24 11:12:00</td>\n",
              "      <td>NORRISTOWN</td>\n",
              "      <td>CHESTNUT ST &amp; WALNUT ST</td>\n",
              "      <td>1</td>\n",
              "      <td>EMS</td>\n",
              "      <td>FALL VICTIM</td>\n",
              "      <td>2016-08-24</td>\n",
              "      <td>11</td>\n",
              "      <td>8</td>\n",
              "      <td>2016</td>\n",
              "      <td>2</td>\n",
              "    </tr>\n",
              "    <tr>\n",
              "      <th>99490</th>\n",
              "      <td>40.186431</td>\n",
              "      <td>-75.192555</td>\n",
              "      <td>WELSH RD &amp; WEBSTER LN;  HORSHAM; Station 352; ...</td>\n",
              "      <td>19002.0</td>\n",
              "      <td>EMS: NAUSEA/VOMITING</td>\n",
              "      <td>2016-08-24 11:17:01</td>\n",
              "      <td>HORSHAM</td>\n",
              "      <td>WELSH RD &amp; WEBSTER LN</td>\n",
              "      <td>1</td>\n",
              "      <td>EMS</td>\n",
              "      <td>NAUSEA/VOMITING</td>\n",
              "      <td>2016-08-24</td>\n",
              "      <td>11</td>\n",
              "      <td>8</td>\n",
              "      <td>2016</td>\n",
              "      <td>2</td>\n",
              "    </tr>\n",
              "    <tr>\n",
              "      <th>99491</th>\n",
              "      <td>40.207055</td>\n",
              "      <td>-75.317952</td>\n",
              "      <td>MORRIS RD &amp; S BROAD ST; UPPER GWYNEDD; 2016-08...</td>\n",
              "      <td>19446.0</td>\n",
              "      <td>Traffic: VEHICLE ACCIDENT -</td>\n",
              "      <td>2016-08-24 11:17:02</td>\n",
              "      <td>UPPER GWYNEDD</td>\n",
              "      <td>MORRIS RD &amp; S BROAD ST</td>\n",
              "      <td>1</td>\n",
              "      <td>Traffic</td>\n",
              "      <td>VEHICLE ACCIDENT -</td>\n",
              "      <td>2016-08-24</td>\n",
              "      <td>11</td>\n",
              "      <td>8</td>\n",
              "      <td>2016</td>\n",
              "      <td>2</td>\n",
              "    </tr>\n",
              "  </tbody>\n",
              "</table>\n",
              "<p>99492 rows × 16 columns</p>\n",
              "</div>"
            ],
            "text/plain": [
              "             lat        lng  ...  Year  Day\n",
              "0      40.297876 -75.581294  ...  2015    3\n",
              "1      40.258061 -75.264680  ...  2015    3\n",
              "2      40.121182 -75.351975  ...  2015    3\n",
              "3      40.116153 -75.343513  ...  2015    3\n",
              "4      40.251492 -75.603350  ...  2015    3\n",
              "...          ...        ...  ...   ...  ...\n",
              "99487  40.132869 -75.333515  ...  2016    2\n",
              "99488  40.006974 -75.289080  ...  2016    2\n",
              "99489  40.115429 -75.334679  ...  2016    2\n",
              "99490  40.186431 -75.192555  ...  2016    2\n",
              "99491  40.207055 -75.317952  ...  2016    2\n",
              "\n",
              "[99492 rows x 16 columns]"
            ]
          },
          "metadata": {
            "tags": []
          },
          "execution_count": 132
        }
      ]
    },
    {
      "cell_type": "markdown",
      "metadata": {
        "id": "e9V4xiiKTt_g"
      },
      "source": [
        "###Month"
      ]
    },
    {
      "cell_type": "code",
      "metadata": {
        "id": "Fz8vn5XQFF-M"
      },
      "source": [
        "g_month = data.groupby('Month').count()"
      ],
      "execution_count": 133,
      "outputs": []
    },
    {
      "cell_type": "code",
      "metadata": {
        "colab": {
          "base_uri": "https://localhost:8080/",
          "height": 359
        },
        "id": "s-8K4UMjFN0T",
        "outputId": "81c23028-1ae1-4dff-bc7e-efda5576f929"
      },
      "source": [
        "g_month"
      ],
      "execution_count": 134,
      "outputs": [
        {
          "output_type": "execute_result",
          "data": {
            "text/html": [
              "<div>\n",
              "<style scoped>\n",
              "    .dataframe tbody tr th:only-of-type {\n",
              "        vertical-align: middle;\n",
              "    }\n",
              "\n",
              "    .dataframe tbody tr th {\n",
              "        vertical-align: top;\n",
              "    }\n",
              "\n",
              "    .dataframe thead th {\n",
              "        text-align: right;\n",
              "    }\n",
              "</style>\n",
              "<table border=\"1\" class=\"dataframe\">\n",
              "  <thead>\n",
              "    <tr style=\"text-align: right;\">\n",
              "      <th></th>\n",
              "      <th>lat</th>\n",
              "      <th>lng</th>\n",
              "      <th>desc</th>\n",
              "      <th>zip</th>\n",
              "      <th>title</th>\n",
              "      <th>timeStamp</th>\n",
              "      <th>twp</th>\n",
              "      <th>addr</th>\n",
              "      <th>e</th>\n",
              "      <th>Department</th>\n",
              "      <th>cause</th>\n",
              "      <th>Date</th>\n",
              "      <th>Hour</th>\n",
              "      <th>Year</th>\n",
              "      <th>Day</th>\n",
              "    </tr>\n",
              "    <tr>\n",
              "      <th>Month</th>\n",
              "      <th></th>\n",
              "      <th></th>\n",
              "      <th></th>\n",
              "      <th></th>\n",
              "      <th></th>\n",
              "      <th></th>\n",
              "      <th></th>\n",
              "      <th></th>\n",
              "      <th></th>\n",
              "      <th></th>\n",
              "      <th></th>\n",
              "      <th></th>\n",
              "      <th></th>\n",
              "      <th></th>\n",
              "      <th></th>\n",
              "    </tr>\n",
              "  </thead>\n",
              "  <tbody>\n",
              "    <tr>\n",
              "      <th>1</th>\n",
              "      <td>13205</td>\n",
              "      <td>13205</td>\n",
              "      <td>13205</td>\n",
              "      <td>11527</td>\n",
              "      <td>13205</td>\n",
              "      <td>13205</td>\n",
              "      <td>13203</td>\n",
              "      <td>13096</td>\n",
              "      <td>13205</td>\n",
              "      <td>13205</td>\n",
              "      <td>13205</td>\n",
              "      <td>13205</td>\n",
              "      <td>13205</td>\n",
              "      <td>13205</td>\n",
              "      <td>13205</td>\n",
              "    </tr>\n",
              "    <tr>\n",
              "      <th>2</th>\n",
              "      <td>11467</td>\n",
              "      <td>11467</td>\n",
              "      <td>11467</td>\n",
              "      <td>9930</td>\n",
              "      <td>11467</td>\n",
              "      <td>11467</td>\n",
              "      <td>11465</td>\n",
              "      <td>11396</td>\n",
              "      <td>11467</td>\n",
              "      <td>11467</td>\n",
              "      <td>11467</td>\n",
              "      <td>11467</td>\n",
              "      <td>11467</td>\n",
              "      <td>11467</td>\n",
              "      <td>11467</td>\n",
              "    </tr>\n",
              "    <tr>\n",
              "      <th>3</th>\n",
              "      <td>11101</td>\n",
              "      <td>11101</td>\n",
              "      <td>11101</td>\n",
              "      <td>9755</td>\n",
              "      <td>11101</td>\n",
              "      <td>11101</td>\n",
              "      <td>11092</td>\n",
              "      <td>11059</td>\n",
              "      <td>11101</td>\n",
              "      <td>11101</td>\n",
              "      <td>11101</td>\n",
              "      <td>11101</td>\n",
              "      <td>11101</td>\n",
              "      <td>11101</td>\n",
              "      <td>11101</td>\n",
              "    </tr>\n",
              "    <tr>\n",
              "      <th>4</th>\n",
              "      <td>11326</td>\n",
              "      <td>11326</td>\n",
              "      <td>11326</td>\n",
              "      <td>9895</td>\n",
              "      <td>11326</td>\n",
              "      <td>11326</td>\n",
              "      <td>11323</td>\n",
              "      <td>11283</td>\n",
              "      <td>11326</td>\n",
              "      <td>11326</td>\n",
              "      <td>11326</td>\n",
              "      <td>11326</td>\n",
              "      <td>11326</td>\n",
              "      <td>11326</td>\n",
              "      <td>11326</td>\n",
              "    </tr>\n",
              "    <tr>\n",
              "      <th>5</th>\n",
              "      <td>11423</td>\n",
              "      <td>11423</td>\n",
              "      <td>11423</td>\n",
              "      <td>9946</td>\n",
              "      <td>11423</td>\n",
              "      <td>11423</td>\n",
              "      <td>11420</td>\n",
              "      <td>11378</td>\n",
              "      <td>11423</td>\n",
              "      <td>11423</td>\n",
              "      <td>11423</td>\n",
              "      <td>11423</td>\n",
              "      <td>11423</td>\n",
              "      <td>11423</td>\n",
              "      <td>11423</td>\n",
              "    </tr>\n",
              "    <tr>\n",
              "      <th>6</th>\n",
              "      <td>11786</td>\n",
              "      <td>11786</td>\n",
              "      <td>11786</td>\n",
              "      <td>10212</td>\n",
              "      <td>11786</td>\n",
              "      <td>11786</td>\n",
              "      <td>11777</td>\n",
              "      <td>11732</td>\n",
              "      <td>11786</td>\n",
              "      <td>11786</td>\n",
              "      <td>11786</td>\n",
              "      <td>11786</td>\n",
              "      <td>11786</td>\n",
              "      <td>11786</td>\n",
              "      <td>11786</td>\n",
              "    </tr>\n",
              "    <tr>\n",
              "      <th>7</th>\n",
              "      <td>12137</td>\n",
              "      <td>12137</td>\n",
              "      <td>12137</td>\n",
              "      <td>10633</td>\n",
              "      <td>12137</td>\n",
              "      <td>12137</td>\n",
              "      <td>12133</td>\n",
              "      <td>12088</td>\n",
              "      <td>12137</td>\n",
              "      <td>12137</td>\n",
              "      <td>12137</td>\n",
              "      <td>12137</td>\n",
              "      <td>12137</td>\n",
              "      <td>12137</td>\n",
              "      <td>12137</td>\n",
              "    </tr>\n",
              "    <tr>\n",
              "      <th>8</th>\n",
              "      <td>9078</td>\n",
              "      <td>9078</td>\n",
              "      <td>9078</td>\n",
              "      <td>7832</td>\n",
              "      <td>9078</td>\n",
              "      <td>9078</td>\n",
              "      <td>9073</td>\n",
              "      <td>9025</td>\n",
              "      <td>9078</td>\n",
              "      <td>9078</td>\n",
              "      <td>9078</td>\n",
              "      <td>9078</td>\n",
              "      <td>9078</td>\n",
              "      <td>9078</td>\n",
              "      <td>9078</td>\n",
              "    </tr>\n",
              "    <tr>\n",
              "      <th>12</th>\n",
              "      <td>7969</td>\n",
              "      <td>7969</td>\n",
              "      <td>7969</td>\n",
              "      <td>6907</td>\n",
              "      <td>7969</td>\n",
              "      <td>7969</td>\n",
              "      <td>7963</td>\n",
              "      <td>7916</td>\n",
              "      <td>7969</td>\n",
              "      <td>7969</td>\n",
              "      <td>7969</td>\n",
              "      <td>7969</td>\n",
              "      <td>7969</td>\n",
              "      <td>7969</td>\n",
              "      <td>7969</td>\n",
              "    </tr>\n",
              "  </tbody>\n",
              "</table>\n",
              "</div>"
            ],
            "text/plain": [
              "         lat    lng   desc    zip  title  ...  cause   Date   Hour   Year    Day\n",
              "Month                                     ...                                   \n",
              "1      13205  13205  13205  11527  13205  ...  13205  13205  13205  13205  13205\n",
              "2      11467  11467  11467   9930  11467  ...  11467  11467  11467  11467  11467\n",
              "3      11101  11101  11101   9755  11101  ...  11101  11101  11101  11101  11101\n",
              "4      11326  11326  11326   9895  11326  ...  11326  11326  11326  11326  11326\n",
              "5      11423  11423  11423   9946  11423  ...  11423  11423  11423  11423  11423\n",
              "6      11786  11786  11786  10212  11786  ...  11786  11786  11786  11786  11786\n",
              "7      12137  12137  12137  10633  12137  ...  12137  12137  12137  12137  12137\n",
              "8       9078   9078   9078   7832   9078  ...   9078   9078   9078   9078   9078\n",
              "12      7969   7969   7969   6907   7969  ...   7969   7969   7969   7969   7969\n",
              "\n",
              "[9 rows x 15 columns]"
            ]
          },
          "metadata": {
            "tags": []
          },
          "execution_count": 134
        }
      ]
    },
    {
      "cell_type": "code",
      "metadata": {
        "colab": {
          "base_uri": "https://localhost:8080/"
        },
        "id": "Ax8_Xo-8D24t",
        "outputId": "c923944b-2bd6-4529-c3b3-180c70c12353"
      },
      "source": [
        "data['Month']"
      ],
      "execution_count": 135,
      "outputs": [
        {
          "output_type": "execute_result",
          "data": {
            "text/plain": [
              "0        12\n",
              "1        12\n",
              "2        12\n",
              "3        12\n",
              "4        12\n",
              "         ..\n",
              "99487     8\n",
              "99488     8\n",
              "99489     8\n",
              "99490     8\n",
              "99491     8\n",
              "Name: Month, Length: 99492, dtype: int64"
            ]
          },
          "metadata": {
            "tags": []
          },
          "execution_count": 135
        }
      ]
    },
    {
      "cell_type": "code",
      "metadata": {
        "colab": {
          "base_uri": "https://localhost:8080/"
        },
        "id": "TFep_9xhEFFK",
        "outputId": "258972a1-64d7-4268-b0d8-59c1e449d686"
      },
      "source": [
        "data['Month'].value_counts()\n",
        "#The most calls in january and least in december"
      ],
      "execution_count": 136,
      "outputs": [
        {
          "output_type": "execute_result",
          "data": {
            "text/plain": [
              "1     13205\n",
              "7     12137\n",
              "6     11786\n",
              "2     11467\n",
              "5     11423\n",
              "4     11326\n",
              "3     11101\n",
              "8      9078\n",
              "12     7969\n",
              "Name: Month, dtype: int64"
            ]
          },
          "metadata": {
            "tags": []
          },
          "execution_count": 136
        }
      ]
    },
    {
      "cell_type": "code",
      "metadata": {
        "colab": {
          "base_uri": "https://localhost:8080/",
          "height": 279
        },
        "id": "8RJahX6R-wO3",
        "outputId": "524445e6-b0eb-4333-dc36-9daad00d6ec2"
      },
      "source": [
        "g_month['Department'].plot()\n",
        "plt.show()"
      ],
      "execution_count": 137,
      "outputs": [
        {
          "output_type": "display_data",
          "data": {
            "image/png": "[encoded data removed]",
            "text/plain": [
              "<Figure size 432x288 with 1 Axes>"
            ]
          },
          "metadata": {
            "tags": [],
            "needs_background": "light"
          }
        }
      ]
    },
    {
      "cell_type": "markdown",
      "metadata": {
        "id": "TDaM3nvdS1mH"
      },
      "source": [
        "**Countplot of the Month\n",
        " column with the hue based off of the Department column.**"
      ]
    },
    {
      "cell_type": "code",
      "metadata": {
        "colab": {
          "base_uri": "https://localhost:8080/",
          "height": 279
        },
        "id": "1eUulh1fSI-v",
        "outputId": "0a2272c3-36ba-4b6a-f455-851ebce8a24e"
      },
      "source": [
        "sns.countplot(x='Month',data=data,hue='Department',palette='colorblind')\n",
        "plt.show()"
      ],
      "execution_count": 138,
      "outputs": [
        {
          "output_type": "display_data",
          "data": {
            "image/png": "[encoded data removed]",
            "text/plain": [
              "<Figure size 432x288 with 1 Axes>"
            ]
          },
          "metadata": {
            "tags": [],
            "needs_background": "light"
          }
        }
      ]
    },
    {
      "cell_type": "code",
      "metadata": {
        "colab": {
          "base_uri": "https://localhost:8080/",
          "height": 333
        },
        "id": "Fd3oKHdAKcrf",
        "outputId": "0f4d0f03-5495-4712-b01c-395671332e6d"
      },
      "source": [
        "sns.countplot(data['Month'], order=data['Month'].value_counts().index)\n",
        "plt.show()"
      ],
      "execution_count": 184,
      "outputs": [
        {
          "output_type": "stream",
          "text": [
            "/usr/local/lib/python3.7/dist-packages/seaborn/_decorators.py:43: FutureWarning: Pass the following variable as a keyword arg: x. From version 0.12, the only valid positional argument will be `data`, and passing other arguments without an explicit keyword will result in an error or misinterpretation.\n",
            "  FutureWarning\n"
          ],
          "name": "stderr"
        },
        {
          "output_type": "display_data",
          "data": {
            "image/png": "[encoded data removed]",
            "text/plain": [
              "<Figure size 432x288 with 1 Axes>"
            ]
          },
          "metadata": {
            "tags": [],
            "needs_background": "light"
          }
        }
      ]
    },
    {
      "cell_type": "markdown",
      "metadata": {
        "id": "p3pXmX1VT27H"
      },
      "source": [
        "###Year"
      ]
    },
    {
      "cell_type": "code",
      "metadata": {
        "id": "r4XygkGhFIa3"
      },
      "source": [
        "g_year = data.groupby('Year').count()"
      ],
      "execution_count": 139,
      "outputs": []
    },
    {
      "cell_type": "code",
      "metadata": {
        "colab": {
          "base_uri": "https://localhost:8080/",
          "height": 142
        },
        "id": "6CsQTtErFK37",
        "outputId": "599b9dd8-99d3-4849-d436-a792c85e29bd"
      },
      "source": [
        "g_year"
      ],
      "execution_count": 140,
      "outputs": [
        {
          "output_type": "execute_result",
          "data": {
            "text/html": [
              "<div>\n",
              "<style scoped>\n",
              "    .dataframe tbody tr th:only-of-type {\n",
              "        vertical-align: middle;\n",
              "    }\n",
              "\n",
              "    .dataframe tbody tr th {\n",
              "        vertical-align: top;\n",
              "    }\n",
              "\n",
              "    .dataframe thead th {\n",
              "        text-align: right;\n",
              "    }\n",
              "</style>\n",
              "<table border=\"1\" class=\"dataframe\">\n",
              "  <thead>\n",
              "    <tr style=\"text-align: right;\">\n",
              "      <th></th>\n",
              "      <th>lat</th>\n",
              "      <th>lng</th>\n",
              "      <th>desc</th>\n",
              "      <th>zip</th>\n",
              "      <th>title</th>\n",
              "      <th>timeStamp</th>\n",
              "      <th>twp</th>\n",
              "      <th>addr</th>\n",
              "      <th>e</th>\n",
              "      <th>Department</th>\n",
              "      <th>cause</th>\n",
              "      <th>Date</th>\n",
              "      <th>Hour</th>\n",
              "      <th>Month</th>\n",
              "      <th>Day</th>\n",
              "    </tr>\n",
              "    <tr>\n",
              "      <th>Year</th>\n",
              "      <th></th>\n",
              "      <th></th>\n",
              "      <th></th>\n",
              "      <th></th>\n",
              "      <th></th>\n",
              "      <th></th>\n",
              "      <th></th>\n",
              "      <th></th>\n",
              "      <th></th>\n",
              "      <th></th>\n",
              "      <th></th>\n",
              "      <th></th>\n",
              "      <th></th>\n",
              "      <th></th>\n",
              "      <th></th>\n",
              "    </tr>\n",
              "  </thead>\n",
              "  <tbody>\n",
              "    <tr>\n",
              "      <th>2015</th>\n",
              "      <td>7969</td>\n",
              "      <td>7969</td>\n",
              "      <td>7969</td>\n",
              "      <td>6907</td>\n",
              "      <td>7969</td>\n",
              "      <td>7969</td>\n",
              "      <td>7963</td>\n",
              "      <td>7916</td>\n",
              "      <td>7969</td>\n",
              "      <td>7969</td>\n",
              "      <td>7969</td>\n",
              "      <td>7969</td>\n",
              "      <td>7969</td>\n",
              "      <td>7969</td>\n",
              "      <td>7969</td>\n",
              "    </tr>\n",
              "    <tr>\n",
              "      <th>2016</th>\n",
              "      <td>91523</td>\n",
              "      <td>91523</td>\n",
              "      <td>91523</td>\n",
              "      <td>79730</td>\n",
              "      <td>91523</td>\n",
              "      <td>91523</td>\n",
              "      <td>91486</td>\n",
              "      <td>91057</td>\n",
              "      <td>91523</td>\n",
              "      <td>91523</td>\n",
              "      <td>91523</td>\n",
              "      <td>91523</td>\n",
              "      <td>91523</td>\n",
              "      <td>91523</td>\n",
              "      <td>91523</td>\n",
              "    </tr>\n",
              "  </tbody>\n",
              "</table>\n",
              "</div>"
            ],
            "text/plain": [
              "        lat    lng   desc    zip  title  ...  cause   Date   Hour  Month    Day\n",
              "Year                                     ...                                   \n",
              "2015   7969   7969   7969   6907   7969  ...   7969   7969   7969   7969   7969\n",
              "2016  91523  91523  91523  79730  91523  ...  91523  91523  91523  91523  91523\n",
              "\n",
              "[2 rows x 15 columns]"
            ]
          },
          "metadata": {
            "tags": []
          },
          "execution_count": 140
        }
      ]
    },
    {
      "cell_type": "code",
      "metadata": {
        "colab": {
          "base_uri": "https://localhost:8080/"
        },
        "id": "KnaOVjLzEKl-",
        "outputId": "1ae7fd29-68ed-47e3-bd75-69718e37637a"
      },
      "source": [
        "data['Year']"
      ],
      "execution_count": 141,
      "outputs": [
        {
          "output_type": "execute_result",
          "data": {
            "text/plain": [
              "0        2015\n",
              "1        2015\n",
              "2        2015\n",
              "3        2015\n",
              "4        2015\n",
              "         ... \n",
              "99487    2016\n",
              "99488    2016\n",
              "99489    2016\n",
              "99490    2016\n",
              "99491    2016\n",
              "Name: Year, Length: 99492, dtype: int64"
            ]
          },
          "metadata": {
            "tags": []
          },
          "execution_count": 141
        }
      ]
    },
    {
      "cell_type": "code",
      "metadata": {
        "colab": {
          "base_uri": "https://localhost:8080/"
        },
        "id": "8mBb6YhOEIgt",
        "outputId": "39e69f01-285f-41f7-8563-0c27b0921fc7"
      },
      "source": [
        "data['Year'].value_counts()"
      ],
      "execution_count": 142,
      "outputs": [
        {
          "output_type": "execute_result",
          "data": {
            "text/plain": [
              "2016    91523\n",
              "2015     7969\n",
              "Name: Year, dtype: int64"
            ]
          },
          "metadata": {
            "tags": []
          },
          "execution_count": 142
        }
      ]
    },
    {
      "cell_type": "code",
      "metadata": {
        "colab": {
          "base_uri": "https://localhost:8080/",
          "height": 279
        },
        "id": "2OgQlQxPBUAH",
        "outputId": "9bb23ff3-d476-4dc0-8b00-cfd11c0d0db3"
      },
      "source": [
        "g_year['Department'].plot()\n",
        "plt.show()"
      ],
      "execution_count": 143,
      "outputs": [
        {
          "output_type": "display_data",
          "data": {
            "image/png": "[encoded data removed]",
            "text/plain": [
              "<Figure size 432x288 with 1 Axes>"
            ]
          },
          "metadata": {
            "tags": [],
            "needs_background": "light"
          }
        }
      ]
    },
    {
      "cell_type": "markdown",
      "metadata": {
        "id": "1LDiSna9Se07"
      },
      "source": [
        "**Countplot of the year\n",
        " column with the hue based off of the Department column.**"
      ]
    },
    {
      "cell_type": "code",
      "metadata": {
        "colab": {
          "base_uri": "https://localhost:8080/",
          "height": 279
        },
        "id": "ExeEPpt5SdvQ",
        "outputId": "ccc85080-9b0b-47fd-98e4-fa3e148282c2"
      },
      "source": [
        "sns.countplot(x='Year',data=data,hue='Department',palette='colorblind')\n",
        "plt.show()\n",
        "#it shows EMS is the most in Department in the year 2016"
      ],
      "execution_count": 144,
      "outputs": [
        {
          "output_type": "display_data",
          "data": {
            "image/png": "[encoded data removed]",
            "text/plain": [
              "<Figure size 432x288 with 1 Axes>"
            ]
          },
          "metadata": {
            "tags": [],
            "needs_background": "light"
          }
        }
      ]
    },
    {
      "cell_type": "markdown",
      "metadata": {
        "id": "tXnxygXCT6Lg"
      },
      "source": [
        "###Date"
      ]
    },
    {
      "cell_type": "code",
      "metadata": {
        "id": "OSyh1_2eFXA9"
      },
      "source": [
        "g_date = data.groupby('Date').count()"
      ],
      "execution_count": 145,
      "outputs": []
    },
    {
      "cell_type": "code",
      "metadata": {
        "colab": {
          "base_uri": "https://localhost:8080/",
          "height": 450
        },
        "id": "eRorAggCFbW9",
        "outputId": "8b27f2b9-da2c-4c9f-8be9-cb9ce35cd5b5"
      },
      "source": [
        "g_date"
      ],
      "execution_count": 146,
      "outputs": [
        {
          "output_type": "execute_result",
          "data": {
            "text/html": [
              "<div>\n",
              "<style scoped>\n",
              "    .dataframe tbody tr th:only-of-type {\n",
              "        vertical-align: middle;\n",
              "    }\n",
              "\n",
              "    .dataframe tbody tr th {\n",
              "        vertical-align: top;\n",
              "    }\n",
              "\n",
              "    .dataframe thead th {\n",
              "        text-align: right;\n",
              "    }\n",
              "</style>\n",
              "<table border=\"1\" class=\"dataframe\">\n",
              "  <thead>\n",
              "    <tr style=\"text-align: right;\">\n",
              "      <th></th>\n",
              "      <th>lat</th>\n",
              "      <th>lng</th>\n",
              "      <th>desc</th>\n",
              "      <th>zip</th>\n",
              "      <th>title</th>\n",
              "      <th>timeStamp</th>\n",
              "      <th>twp</th>\n",
              "      <th>addr</th>\n",
              "      <th>e</th>\n",
              "      <th>Department</th>\n",
              "      <th>cause</th>\n",
              "      <th>Hour</th>\n",
              "      <th>Month</th>\n",
              "      <th>Year</th>\n",
              "      <th>Day</th>\n",
              "    </tr>\n",
              "    <tr>\n",
              "      <th>Date</th>\n",
              "      <th></th>\n",
              "      <th></th>\n",
              "      <th></th>\n",
              "      <th></th>\n",
              "      <th></th>\n",
              "      <th></th>\n",
              "      <th></th>\n",
              "      <th></th>\n",
              "      <th></th>\n",
              "      <th></th>\n",
              "      <th></th>\n",
              "      <th></th>\n",
              "      <th></th>\n",
              "      <th></th>\n",
              "      <th></th>\n",
              "    </tr>\n",
              "  </thead>\n",
              "  <tbody>\n",
              "    <tr>\n",
              "      <th>2015-12-10</th>\n",
              "      <td>115</td>\n",
              "      <td>115</td>\n",
              "      <td>115</td>\n",
              "      <td>100</td>\n",
              "      <td>115</td>\n",
              "      <td>115</td>\n",
              "      <td>115</td>\n",
              "      <td>113</td>\n",
              "      <td>115</td>\n",
              "      <td>115</td>\n",
              "      <td>115</td>\n",
              "      <td>115</td>\n",
              "      <td>115</td>\n",
              "      <td>115</td>\n",
              "      <td>115</td>\n",
              "    </tr>\n",
              "    <tr>\n",
              "      <th>2015-12-11</th>\n",
              "      <td>396</td>\n",
              "      <td>396</td>\n",
              "      <td>396</td>\n",
              "      <td>333</td>\n",
              "      <td>396</td>\n",
              "      <td>396</td>\n",
              "      <td>395</td>\n",
              "      <td>391</td>\n",
              "      <td>396</td>\n",
              "      <td>396</td>\n",
              "      <td>396</td>\n",
              "      <td>396</td>\n",
              "      <td>396</td>\n",
              "      <td>396</td>\n",
              "      <td>396</td>\n",
              "    </tr>\n",
              "    <tr>\n",
              "      <th>2015-12-12</th>\n",
              "      <td>403</td>\n",
              "      <td>403</td>\n",
              "      <td>403</td>\n",
              "      <td>333</td>\n",
              "      <td>403</td>\n",
              "      <td>403</td>\n",
              "      <td>403</td>\n",
              "      <td>401</td>\n",
              "      <td>403</td>\n",
              "      <td>403</td>\n",
              "      <td>403</td>\n",
              "      <td>403</td>\n",
              "      <td>403</td>\n",
              "      <td>403</td>\n",
              "      <td>403</td>\n",
              "    </tr>\n",
              "    <tr>\n",
              "      <th>2015-12-13</th>\n",
              "      <td>319</td>\n",
              "      <td>319</td>\n",
              "      <td>319</td>\n",
              "      <td>280</td>\n",
              "      <td>319</td>\n",
              "      <td>319</td>\n",
              "      <td>319</td>\n",
              "      <td>317</td>\n",
              "      <td>319</td>\n",
              "      <td>319</td>\n",
              "      <td>319</td>\n",
              "      <td>319</td>\n",
              "      <td>319</td>\n",
              "      <td>319</td>\n",
              "      <td>319</td>\n",
              "    </tr>\n",
              "    <tr>\n",
              "      <th>2015-12-14</th>\n",
              "      <td>447</td>\n",
              "      <td>447</td>\n",
              "      <td>447</td>\n",
              "      <td>387</td>\n",
              "      <td>447</td>\n",
              "      <td>447</td>\n",
              "      <td>446</td>\n",
              "      <td>445</td>\n",
              "      <td>447</td>\n",
              "      <td>447</td>\n",
              "      <td>447</td>\n",
              "      <td>447</td>\n",
              "      <td>447</td>\n",
              "      <td>447</td>\n",
              "      <td>447</td>\n",
              "    </tr>\n",
              "    <tr>\n",
              "      <th>...</th>\n",
              "      <td>...</td>\n",
              "      <td>...</td>\n",
              "      <td>...</td>\n",
              "      <td>...</td>\n",
              "      <td>...</td>\n",
              "      <td>...</td>\n",
              "      <td>...</td>\n",
              "      <td>...</td>\n",
              "      <td>...</td>\n",
              "      <td>...</td>\n",
              "      <td>...</td>\n",
              "      <td>...</td>\n",
              "      <td>...</td>\n",
              "      <td>...</td>\n",
              "      <td>...</td>\n",
              "    </tr>\n",
              "    <tr>\n",
              "      <th>2016-08-20</th>\n",
              "      <td>328</td>\n",
              "      <td>328</td>\n",
              "      <td>328</td>\n",
              "      <td>279</td>\n",
              "      <td>328</td>\n",
              "      <td>328</td>\n",
              "      <td>328</td>\n",
              "      <td>327</td>\n",
              "      <td>328</td>\n",
              "      <td>328</td>\n",
              "      <td>328</td>\n",
              "      <td>328</td>\n",
              "      <td>328</td>\n",
              "      <td>328</td>\n",
              "      <td>328</td>\n",
              "    </tr>\n",
              "    <tr>\n",
              "      <th>2016-08-21</th>\n",
              "      <td>357</td>\n",
              "      <td>357</td>\n",
              "      <td>357</td>\n",
              "      <td>299</td>\n",
              "      <td>357</td>\n",
              "      <td>357</td>\n",
              "      <td>357</td>\n",
              "      <td>352</td>\n",
              "      <td>357</td>\n",
              "      <td>357</td>\n",
              "      <td>357</td>\n",
              "      <td>357</td>\n",
              "      <td>357</td>\n",
              "      <td>357</td>\n",
              "      <td>357</td>\n",
              "    </tr>\n",
              "    <tr>\n",
              "      <th>2016-08-22</th>\n",
              "      <td>389</td>\n",
              "      <td>389</td>\n",
              "      <td>389</td>\n",
              "      <td>336</td>\n",
              "      <td>389</td>\n",
              "      <td>389</td>\n",
              "      <td>388</td>\n",
              "      <td>384</td>\n",
              "      <td>389</td>\n",
              "      <td>389</td>\n",
              "      <td>389</td>\n",
              "      <td>389</td>\n",
              "      <td>389</td>\n",
              "      <td>389</td>\n",
              "      <td>389</td>\n",
              "    </tr>\n",
              "    <tr>\n",
              "      <th>2016-08-23</th>\n",
              "      <td>439</td>\n",
              "      <td>439</td>\n",
              "      <td>439</td>\n",
              "      <td>390</td>\n",
              "      <td>439</td>\n",
              "      <td>439</td>\n",
              "      <td>439</td>\n",
              "      <td>437</td>\n",
              "      <td>439</td>\n",
              "      <td>439</td>\n",
              "      <td>439</td>\n",
              "      <td>439</td>\n",
              "      <td>439</td>\n",
              "      <td>439</td>\n",
              "      <td>439</td>\n",
              "    </tr>\n",
              "    <tr>\n",
              "      <th>2016-08-24</th>\n",
              "      <td>132</td>\n",
              "      <td>132</td>\n",
              "      <td>132</td>\n",
              "      <td>106</td>\n",
              "      <td>132</td>\n",
              "      <td>132</td>\n",
              "      <td>132</td>\n",
              "      <td>132</td>\n",
              "      <td>132</td>\n",
              "      <td>132</td>\n",
              "      <td>132</td>\n",
              "      <td>132</td>\n",
              "      <td>132</td>\n",
              "      <td>132</td>\n",
              "      <td>132</td>\n",
              "    </tr>\n",
              "  </tbody>\n",
              "</table>\n",
              "<p>259 rows × 15 columns</p>\n",
              "</div>"
            ],
            "text/plain": [
              "            lat  lng  desc  zip  title  ...  cause  Hour  Month  Year  Day\n",
              "Date                                    ...                               \n",
              "2015-12-10  115  115   115  100    115  ...    115   115    115   115  115\n",
              "2015-12-11  396  396   396  333    396  ...    396   396    396   396  396\n",
              "2015-12-12  403  403   403  333    403  ...    403   403    403   403  403\n",
              "2015-12-13  319  319   319  280    319  ...    319   319    319   319  319\n",
              "2015-12-14  447  447   447  387    447  ...    447   447    447   447  447\n",
              "...         ...  ...   ...  ...    ...  ...    ...   ...    ...   ...  ...\n",
              "2016-08-20  328  328   328  279    328  ...    328   328    328   328  328\n",
              "2016-08-21  357  357   357  299    357  ...    357   357    357   357  357\n",
              "2016-08-22  389  389   389  336    389  ...    389   389    389   389  389\n",
              "2016-08-23  439  439   439  390    439  ...    439   439    439   439  439\n",
              "2016-08-24  132  132   132  106    132  ...    132   132    132   132  132\n",
              "\n",
              "[259 rows x 15 columns]"
            ]
          },
          "metadata": {
            "tags": []
          },
          "execution_count": 146
        }
      ]
    },
    {
      "cell_type": "code",
      "metadata": {
        "colab": {
          "base_uri": "https://localhost:8080/"
        },
        "id": "IerPb_e3EP8G",
        "outputId": "77c74f92-a3bb-4955-d1e3-086720aca0f2"
      },
      "source": [
        "data['Date']"
      ],
      "execution_count": 147,
      "outputs": [
        {
          "output_type": "execute_result",
          "data": {
            "text/plain": [
              "0        2015-12-10\n",
              "1        2015-12-10\n",
              "2        2015-12-10\n",
              "3        2015-12-10\n",
              "4        2015-12-10\n",
              "            ...    \n",
              "99487    2016-08-24\n",
              "99488    2016-08-24\n",
              "99489    2016-08-24\n",
              "99490    2016-08-24\n",
              "99491    2016-08-24\n",
              "Name: Date, Length: 99492, dtype: object"
            ]
          },
          "metadata": {
            "tags": []
          },
          "execution_count": 147
        }
      ]
    },
    {
      "cell_type": "code",
      "metadata": {
        "colab": {
          "base_uri": "https://localhost:8080/"
        },
        "id": "YdJNfO0pEOSY",
        "outputId": "bd858c2e-cbee-48ab-9af0-3a6b8ac55839"
      },
      "source": [
        "data['Date'].value_counts()\n",
        "#The most calls on 23rd of jan in 2016 and the least on 10th of dec in 2015"
      ],
      "execution_count": 148,
      "outputs": [
        {
          "output_type": "execute_result",
          "data": {
            "text/plain": [
              "2016-01-23    913\n",
              "2016-02-24    679\n",
              "2016-01-24    662\n",
              "2016-01-12    588\n",
              "2016-04-03    586\n",
              "             ... \n",
              "2016-02-07    255\n",
              "2016-03-20    244\n",
              "2016-05-01    140\n",
              "2016-08-24    132\n",
              "2015-12-10    115\n",
              "Name: Date, Length: 259, dtype: int64"
            ]
          },
          "metadata": {
            "tags": []
          },
          "execution_count": 148
        }
      ]
    },
    {
      "cell_type": "code",
      "metadata": {
        "colab": {
          "base_uri": "https://localhost:8080/",
          "height": 585
        },
        "id": "oPADQaKG_NU-",
        "outputId": "a058a3c7-6f01-4fe7-b722-c40a42946eb5"
      },
      "source": [
        "plt.figure(figsize=(12,8))\n",
        "g_date['Department'].plot()\n",
        "plt.tight_layout()\n",
        "plt.show()"
      ],
      "execution_count": 149,
      "outputs": [
        {
          "output_type": "display_data",
          "data": {
            "image/png": "[encoded data removed]",
            "text/plain": [
              "<Figure size 864x576 with 1 Axes>"
            ]
          },
          "metadata": {
            "tags": [],
            "needs_background": "light"
          }
        }
      ]
    },
    {
      "cell_type": "markdown",
      "metadata": {
        "id": "RTj43vK6JSLJ"
      },
      "source": [
        "**The count of townships in each date due to traffic**"
      ]
    },
    {
      "cell_type": "code",
      "metadata": {
        "colab": {
          "base_uri": "https://localhost:8080/",
          "height": 297
        },
        "id": "MAiBAJEtIdCJ",
        "outputId": "657118bc-a1a1-4f5f-b158-1bbe2e0bf868"
      },
      "source": [
        "data[data['Department']=='Traffic'].groupby('Date').count()['twp'].plot()\n",
        "plt.title('Traffic')\n",
        "plt.tight_layout()"
      ],
      "execution_count": 150,
      "outputs": [
        {
          "output_type": "display_data",
          "data": {
            "image/png": "[encoded data removed]",
            "text/plain": [
              "<Figure size 432x288 with 1 Axes>"
            ]
          },
          "metadata": {
            "tags": [],
            "needs_background": "light"
          }
        }
      ]
    },
    {
      "cell_type": "markdown",
      "metadata": {
        "id": "aa3S17bnJMhg"
      },
      "source": [
        "**The count of townships in each date due to fire**"
      ]
    },
    {
      "cell_type": "code",
      "metadata": {
        "colab": {
          "base_uri": "https://localhost:8080/",
          "height": 297
        },
        "id": "3Bll18GVIjxk",
        "outputId": "d99a5a82-5eb6-4ea0-d431-4829d841b9c3"
      },
      "source": [
        "data[data['Department']=='Fire'].groupby('Date').count()['twp'].plot()\n",
        "plt.title('Traffic')\n",
        "plt.tight_layout()"
      ],
      "execution_count": 151,
      "outputs": [
        {
          "output_type": "display_data",
          "data": {
            "image/png": "[encoded data removed]",
            "text/plain": [
              "<Figure size 432x288 with 1 Axes>"
            ]
          },
          "metadata": {
            "tags": [],
            "needs_background": "light"
          }
        }
      ]
    },
    {
      "cell_type": "markdown",
      "metadata": {
        "id": "wdlYZywAJV-y"
      },
      "source": [
        "**The count of townships in each date due to EMS**"
      ]
    },
    {
      "cell_type": "code",
      "metadata": {
        "colab": {
          "base_uri": "https://localhost:8080/",
          "height": 297
        },
        "id": "qRu1E9YDIm-O",
        "outputId": "a5a3fcdb-ca3f-43a5-b4ad-7944fea0a75b"
      },
      "source": [
        "data[data['Department']=='EMS'].groupby('Date').count()['twp'].plot()\n",
        "plt.title('Traffic')\n",
        "plt.tight_layout()"
      ],
      "execution_count": 152,
      "outputs": [
        {
          "output_type": "display_data",
          "data": {
            "image/png": "[encoded data removed]",
            "text/plain": [
              "<Figure size 432x288 with 1 Axes>"
            ]
          },
          "metadata": {
            "tags": [],
            "needs_background": "light"
          }
        }
      ]
    },
    {
      "cell_type": "markdown",
      "metadata": {
        "id": "T0w0lQ4OU7d1"
      },
      "source": [
        "###Hour"
      ]
    },
    {
      "cell_type": "code",
      "metadata": {
        "colab": {
          "base_uri": "https://localhost:8080/"
        },
        "id": "SU9ZvGLfVARQ",
        "outputId": "0a30d9ae-c274-4fcb-d308-af14b3380922"
      },
      "source": [
        "data['Hour'].value_counts()\n",
        "#The most calls at 17 hours (5 PM) and least at 4 hours (4 AM)"
      ],
      "execution_count": 153,
      "outputs": [
        {
          "output_type": "execute_result",
          "data": {
            "text/plain": [
              "17    6517\n",
              "16    6490\n",
              "15    6154\n",
              "12    6029\n",
              "14    5997\n",
              "13    5967\n",
              "18    5762\n",
              "11    5543\n",
              "10    5413\n",
              "9     5314\n",
              "8     5044\n",
              "19    4908\n",
              "20    4377\n",
              "7     3970\n",
              "21    3788\n",
              "22    3283\n",
              "23    2559\n",
              "6     2513\n",
              "0     2112\n",
              "1     1721\n",
              "5     1629\n",
              "2     1549\n",
              "3     1435\n",
              "4     1418\n",
              "Name: Hour, dtype: int64"
            ]
          },
          "metadata": {
            "tags": []
          },
          "execution_count": 153
        }
      ]
    },
    {
      "cell_type": "code",
      "metadata": {
        "id": "O3N6qATVU9Dd"
      },
      "source": [
        "g_hour=data.groupby('Hour').count()"
      ],
      "execution_count": 154,
      "outputs": []
    },
    {
      "cell_type": "code",
      "metadata": {
        "colab": {
          "base_uri": "https://localhost:8080/",
          "height": 279
        },
        "id": "GsgV26jhVDrw",
        "outputId": "6d1e078b-bc9a-44fb-ef93-a718979146c3"
      },
      "source": [
        "g_hour['Department'].plot()\n",
        "plt.show()\n",
        "#e observe that maximum calls at 17 and least at 4 (Hour)"
      ],
      "execution_count": 155,
      "outputs": [
        {
          "output_type": "display_data",
          "data": {
            "image/png": "[encoded data removed]",
            "text/plain": [
              "<Figure size 432x288 with 1 Axes>"
            ]
          },
          "metadata": {
            "tags": [],
            "needs_background": "light"
          }
        }
      ]
    },
    {
      "cell_type": "markdown",
      "metadata": {
        "id": "PCi7-ZEUT9-y"
      },
      "source": [
        "###Days"
      ]
    },
    {
      "cell_type": "code",
      "metadata": {
        "id": "Mx5sG3AXPd0I"
      },
      "source": [
        "d = {0:'Mon',1:'Tue',2:'Wed',3:'Thu',4:'Fri',5:'Sat',6:'Sun'}\n",
        "#assigning the days in a week to numbers from 0-6"
      ],
      "execution_count": 156,
      "outputs": []
    },
    {
      "cell_type": "code",
      "metadata": {
        "id": "qs6qNF77Plzd"
      },
      "source": [
        "data['Day'] = data['Day'].map(d)"
      ],
      "execution_count": 157,
      "outputs": []
    },
    {
      "cell_type": "code",
      "metadata": {
        "colab": {
          "base_uri": "https://localhost:8080/"
        },
        "id": "DSX3EHBOPqkX",
        "outputId": "099433cb-a0f6-4176-d17a-e269aafb9fb5"
      },
      "source": [
        "data['Day']"
      ],
      "execution_count": 158,
      "outputs": [
        {
          "output_type": "execute_result",
          "data": {
            "text/plain": [
              "0        Thu\n",
              "1        Thu\n",
              "2        Thu\n",
              "3        Thu\n",
              "4        Thu\n",
              "        ... \n",
              "99487    Wed\n",
              "99488    Wed\n",
              "99489    Wed\n",
              "99490    Wed\n",
              "99491    Wed\n",
              "Name: Day, Length: 99492, dtype: object"
            ]
          },
          "metadata": {
            "tags": []
          },
          "execution_count": 158
        }
      ]
    },
    {
      "cell_type": "code",
      "metadata": {
        "colab": {
          "base_uri": "https://localhost:8080/"
        },
        "id": "Q5dJwirSPpwX",
        "outputId": "016448a3-6fbd-4cdd-bfd8-ee8f53c00388"
      },
      "source": [
        "data['Day'].value_counts()\n",
        "#The most calls on Tuesday and least on Sunday"
      ],
      "execution_count": 189,
      "outputs": [
        {
          "output_type": "execute_result",
          "data": {
            "text/plain": [
              "Tue    15150\n",
              "Wed    14879\n",
              "Fri    14833\n",
              "Mon    14680\n",
              "Thu    14478\n",
              "Sat    13336\n",
              "Sun    12136\n",
              "Name: Day, dtype: int64"
            ]
          },
          "metadata": {
            "tags": []
          },
          "execution_count": 189
        }
      ]
    },
    {
      "cell_type": "code",
      "metadata": {
        "id": "6fp4OnrzFe45"
      },
      "source": [
        "g_day = data.groupby('Day').count()"
      ],
      "execution_count": 160,
      "outputs": []
    },
    {
      "cell_type": "code",
      "metadata": {
        "colab": {
          "base_uri": "https://localhost:8080/",
          "height": 297
        },
        "id": "Rh0aoAQiFhCy",
        "outputId": "243e37cf-6904-450a-f7c8-11a93cced7a6"
      },
      "source": [
        "g_day"
      ],
      "execution_count": 161,
      "outputs": [
        {
          "output_type": "execute_result",
          "data": {
            "text/html": [
              "<div>\n",
              "<style scoped>\n",
              "    .dataframe tbody tr th:only-of-type {\n",
              "        vertical-align: middle;\n",
              "    }\n",
              "\n",
              "    .dataframe tbody tr th {\n",
              "        vertical-align: top;\n",
              "    }\n",
              "\n",
              "    .dataframe thead th {\n",
              "        text-align: right;\n",
              "    }\n",
              "</style>\n",
              "<table border=\"1\" class=\"dataframe\">\n",
              "  <thead>\n",
              "    <tr style=\"text-align: right;\">\n",
              "      <th></th>\n",
              "      <th>lat</th>\n",
              "      <th>lng</th>\n",
              "      <th>desc</th>\n",
              "      <th>zip</th>\n",
              "      <th>title</th>\n",
              "      <th>timeStamp</th>\n",
              "      <th>twp</th>\n",
              "      <th>addr</th>\n",
              "      <th>e</th>\n",
              "      <th>Department</th>\n",
              "      <th>cause</th>\n",
              "      <th>Date</th>\n",
              "      <th>Hour</th>\n",
              "      <th>Month</th>\n",
              "      <th>Year</th>\n",
              "    </tr>\n",
              "    <tr>\n",
              "      <th>Day</th>\n",
              "      <th></th>\n",
              "      <th></th>\n",
              "      <th></th>\n",
              "      <th></th>\n",
              "      <th></th>\n",
              "      <th></th>\n",
              "      <th></th>\n",
              "      <th></th>\n",
              "      <th></th>\n",
              "      <th></th>\n",
              "      <th></th>\n",
              "      <th></th>\n",
              "      <th></th>\n",
              "      <th></th>\n",
              "      <th></th>\n",
              "    </tr>\n",
              "  </thead>\n",
              "  <tbody>\n",
              "    <tr>\n",
              "      <th>Fri</th>\n",
              "      <td>14833</td>\n",
              "      <td>14833</td>\n",
              "      <td>14833</td>\n",
              "      <td>12887</td>\n",
              "      <td>14833</td>\n",
              "      <td>14833</td>\n",
              "      <td>14830</td>\n",
              "      <td>14758</td>\n",
              "      <td>14833</td>\n",
              "      <td>14833</td>\n",
              "      <td>14833</td>\n",
              "      <td>14833</td>\n",
              "      <td>14833</td>\n",
              "      <td>14833</td>\n",
              "      <td>14833</td>\n",
              "    </tr>\n",
              "    <tr>\n",
              "      <th>Mon</th>\n",
              "      <td>14680</td>\n",
              "      <td>14680</td>\n",
              "      <td>14680</td>\n",
              "      <td>12763</td>\n",
              "      <td>14680</td>\n",
              "      <td>14680</td>\n",
              "      <td>14674</td>\n",
              "      <td>14627</td>\n",
              "      <td>14680</td>\n",
              "      <td>14680</td>\n",
              "      <td>14680</td>\n",
              "      <td>14680</td>\n",
              "      <td>14680</td>\n",
              "      <td>14680</td>\n",
              "      <td>14680</td>\n",
              "    </tr>\n",
              "    <tr>\n",
              "      <th>Sat</th>\n",
              "      <td>13336</td>\n",
              "      <td>13336</td>\n",
              "      <td>13336</td>\n",
              "      <td>11612</td>\n",
              "      <td>13336</td>\n",
              "      <td>13336</td>\n",
              "      <td>13330</td>\n",
              "      <td>13234</td>\n",
              "      <td>13336</td>\n",
              "      <td>13336</td>\n",
              "      <td>13336</td>\n",
              "      <td>13336</td>\n",
              "      <td>13336</td>\n",
              "      <td>13336</td>\n",
              "      <td>13336</td>\n",
              "    </tr>\n",
              "    <tr>\n",
              "      <th>Sun</th>\n",
              "      <td>12136</td>\n",
              "      <td>12136</td>\n",
              "      <td>12136</td>\n",
              "      <td>10558</td>\n",
              "      <td>12136</td>\n",
              "      <td>12136</td>\n",
              "      <td>12130</td>\n",
              "      <td>12095</td>\n",
              "      <td>12136</td>\n",
              "      <td>12136</td>\n",
              "      <td>12136</td>\n",
              "      <td>12136</td>\n",
              "      <td>12136</td>\n",
              "      <td>12136</td>\n",
              "      <td>12136</td>\n",
              "    </tr>\n",
              "    <tr>\n",
              "      <th>Thu</th>\n",
              "      <td>14478</td>\n",
              "      <td>14478</td>\n",
              "      <td>14478</td>\n",
              "      <td>12580</td>\n",
              "      <td>14478</td>\n",
              "      <td>14478</td>\n",
              "      <td>14474</td>\n",
              "      <td>14408</td>\n",
              "      <td>14478</td>\n",
              "      <td>14478</td>\n",
              "      <td>14478</td>\n",
              "      <td>14478</td>\n",
              "      <td>14478</td>\n",
              "      <td>14478</td>\n",
              "      <td>14478</td>\n",
              "    </tr>\n",
              "    <tr>\n",
              "      <th>Tue</th>\n",
              "      <td>15150</td>\n",
              "      <td>15150</td>\n",
              "      <td>15150</td>\n",
              "      <td>13207</td>\n",
              "      <td>15150</td>\n",
              "      <td>15150</td>\n",
              "      <td>15143</td>\n",
              "      <td>15057</td>\n",
              "      <td>15150</td>\n",
              "      <td>15150</td>\n",
              "      <td>15150</td>\n",
              "      <td>15150</td>\n",
              "      <td>15150</td>\n",
              "      <td>15150</td>\n",
              "      <td>15150</td>\n",
              "    </tr>\n",
              "    <tr>\n",
              "      <th>Wed</th>\n",
              "      <td>14879</td>\n",
              "      <td>14879</td>\n",
              "      <td>14879</td>\n",
              "      <td>13030</td>\n",
              "      <td>14879</td>\n",
              "      <td>14879</td>\n",
              "      <td>14868</td>\n",
              "      <td>14794</td>\n",
              "      <td>14879</td>\n",
              "      <td>14879</td>\n",
              "      <td>14879</td>\n",
              "      <td>14879</td>\n",
              "      <td>14879</td>\n",
              "      <td>14879</td>\n",
              "      <td>14879</td>\n",
              "    </tr>\n",
              "  </tbody>\n",
              "</table>\n",
              "</div>"
            ],
            "text/plain": [
              "       lat    lng   desc    zip  title  ...  cause   Date   Hour  Month   Year\n",
              "Day                                     ...                                   \n",
              "Fri  14833  14833  14833  12887  14833  ...  14833  14833  14833  14833  14833\n",
              "Mon  14680  14680  14680  12763  14680  ...  14680  14680  14680  14680  14680\n",
              "Sat  13336  13336  13336  11612  13336  ...  13336  13336  13336  13336  13336\n",
              "Sun  12136  12136  12136  10558  12136  ...  12136  12136  12136  12136  12136\n",
              "Thu  14478  14478  14478  12580  14478  ...  14478  14478  14478  14478  14478\n",
              "Tue  15150  15150  15150  13207  15150  ...  15150  15150  15150  15150  15150\n",
              "Wed  14879  14879  14879  13030  14879  ...  14879  14879  14879  14879  14879\n",
              "\n",
              "[7 rows x 15 columns]"
            ]
          },
          "metadata": {
            "tags": []
          },
          "execution_count": 161
        }
      ]
    },
    {
      "cell_type": "code",
      "metadata": {
        "colab": {
          "base_uri": "https://localhost:8080/",
          "height": 497
        },
        "id": "eZKwNKb9BF2V",
        "outputId": "9849356b-6a87-4803-d93b-303652a591e8"
      },
      "source": [
        "plt.figure(figsize=(12,8))\n",
        "g_day['Department'].plot()\n",
        "plt.show()"
      ],
      "execution_count": 162,
      "outputs": [
        {
          "output_type": "display_data",
          "data": {
            "image/png": "[encoded data removed]",
            "text/plain": [
              "<Figure size 864x576 with 1 Axes>"
            ]
          },
          "metadata": {
            "tags": [],
            "needs_background": "light"
          }
        }
      ]
    },
    {
      "cell_type": "markdown",
      "metadata": {
        "id": "4n8Ob6LCSlaq"
      },
      "source": [
        "**The count of townships in each day due to traffic**"
      ]
    },
    {
      "cell_type": "code",
      "metadata": {
        "id": "KPm1BZUsSlar",
        "colab": {
          "base_uri": "https://localhost:8080/",
          "height": 297
        },
        "outputId": "edd8955f-8697-43c8-f45f-a04a9c20ec5a"
      },
      "source": [
        "data[data['Department']=='Traffic'].groupby('Day').count()['twp'].plot()\n",
        "plt.title('Traffic')\n",
        "plt.tight_layout()\n",
        "#Maximum on Tue and least on Sun due to 'fire'"
      ],
      "execution_count": 163,
      "outputs": [
        {
          "output_type": "display_data",
          "data": {
            "image/png": "[encoded data removed]",
            "text/plain": [
              "<Figure size 432x288 with 1 Axes>"
            ]
          },
          "metadata": {
            "tags": [],
            "needs_background": "light"
          }
        }
      ]
    },
    {
      "cell_type": "markdown",
      "metadata": {
        "id": "DU4N_DHlIJ-n"
      },
      "source": [
        "**The count of townships in each day due to fire**"
      ]
    },
    {
      "cell_type": "code",
      "metadata": {
        "id": "F1a_LxZFSlar",
        "colab": {
          "base_uri": "https://localhost:8080/",
          "height": 297
        },
        "outputId": "8dc80024-5202-4414-d89c-d36229dd696a"
      },
      "source": [
        "data[data['Department']=='Fire'].groupby('Day').count()['twp'].plot()\n",
        "plt.title('Fire')\n",
        "plt.tight_layout()\n",
        "#Maximum on Wed and least on Sat due to 'fire'"
      ],
      "execution_count": 164,
      "outputs": [
        {
          "output_type": "display_data",
          "data": {
            "image/png": "[encoded data removed]",
            "text/plain": [
              "<Figure size 432x288 with 1 Axes>"
            ]
          },
          "metadata": {
            "tags": [],
            "needs_background": "light"
          }
        }
      ]
    },
    {
      "cell_type": "markdown",
      "metadata": {
        "id": "UxfTytkyIMSc"
      },
      "source": [
        "**The count of townships in each day due to EMS**"
      ]
    },
    {
      "cell_type": "code",
      "metadata": {
        "id": "JnbGsHf4Slar",
        "colab": {
          "base_uri": "https://localhost:8080/",
          "height": 297
        },
        "outputId": "5ecd073e-7b86-484a-cbf5-eb994af950d4"
      },
      "source": [
        "data[data['Department']=='EMS'].groupby('Day').count()['twp'].plot()\n",
        "plt.title('EMS')\n",
        "plt.tight_layout()\n",
        "#Maximum on Fri and least on Sun due to 'fire'"
      ],
      "execution_count": 165,
      "outputs": [
        {
          "output_type": "display_data",
          "data": {
            "image/png": "[encoded data removed]",
            "text/plain": [
              "<Figure size 432x288 with 1 Axes>"
            ]
          },
          "metadata": {
            "tags": [],
            "needs_background": "light"
          }
        }
      ]
    },
    {
      "cell_type": "markdown",
      "metadata": {
        "id": "LB6hmEoVSqsi"
      },
      "source": [
        "**Countplot of the Day\n",
        " column with the hue based off of the Department column.**"
      ]
    },
    {
      "cell_type": "code",
      "metadata": {
        "colab": {
          "base_uri": "https://localhost:8080/",
          "height": 279
        },
        "id": "__9Rkl-XSS6S",
        "outputId": "bdab7cce-d371-4b42-e28b-7cb2c677da69"
      },
      "source": [
        "sns.countplot(x='Day',data=data,hue='Department',palette='colorblind')\n",
        "plt.show()"
      ],
      "execution_count": 166,
      "outputs": [
        {
          "output_type": "display_data",
          "data": {
            "image/png": "[encoded data removed]",
            "text/plain": [
              "<Figure size 432x288 with 1 Axes>"
            ]
          },
          "metadata": {
            "tags": [],
            "needs_background": "light"
          }
        }
      ]
    },
    {
      "cell_type": "code",
      "metadata": {
        "id": "GsXbKOU6Slas",
        "colab": {
          "base_uri": "https://localhost:8080/",
          "height": 297
        },
        "outputId": "fba84464-c436-4c68-86f0-0b31682fd82f"
      },
      "source": [
        "day_year = data.groupby(by=['Day','Year']).count()['Department'].unstack()\n",
        "day_year"
      ],
      "execution_count": 167,
      "outputs": [
        {
          "output_type": "execute_result",
          "data": {
            "text/html": [
              "<div>\n",
              "<style scoped>\n",
              "    .dataframe tbody tr th:only-of-type {\n",
              "        vertical-align: middle;\n",
              "    }\n",
              "\n",
              "    .dataframe tbody tr th {\n",
              "        vertical-align: top;\n",
              "    }\n",
              "\n",
              "    .dataframe thead th {\n",
              "        text-align: right;\n",
              "    }\n",
              "</style>\n",
              "<table border=\"1\" class=\"dataframe\">\n",
              "  <thead>\n",
              "    <tr style=\"text-align: right;\">\n",
              "      <th>Year</th>\n",
              "      <th>2015</th>\n",
              "      <th>2016</th>\n",
              "    </tr>\n",
              "    <tr>\n",
              "      <th>Day</th>\n",
              "      <th></th>\n",
              "      <th></th>\n",
              "    </tr>\n",
              "  </thead>\n",
              "  <tbody>\n",
              "    <tr>\n",
              "      <th>Fri</th>\n",
              "      <td>1065</td>\n",
              "      <td>13768</td>\n",
              "    </tr>\n",
              "    <tr>\n",
              "      <th>Mon</th>\n",
              "      <td>1257</td>\n",
              "      <td>13423</td>\n",
              "    </tr>\n",
              "    <tr>\n",
              "      <th>Sat</th>\n",
              "      <td>978</td>\n",
              "      <td>12358</td>\n",
              "    </tr>\n",
              "    <tr>\n",
              "      <th>Sun</th>\n",
              "      <td>907</td>\n",
              "      <td>11229</td>\n",
              "    </tr>\n",
              "    <tr>\n",
              "      <th>Thu</th>\n",
              "      <td>1266</td>\n",
              "      <td>13212</td>\n",
              "    </tr>\n",
              "    <tr>\n",
              "      <th>Tue</th>\n",
              "      <td>1234</td>\n",
              "      <td>13916</td>\n",
              "    </tr>\n",
              "    <tr>\n",
              "      <th>Wed</th>\n",
              "      <td>1262</td>\n",
              "      <td>13617</td>\n",
              "    </tr>\n",
              "  </tbody>\n",
              "</table>\n",
              "</div>"
            ],
            "text/plain": [
              "Year  2015   2016\n",
              "Day              \n",
              "Fri   1065  13768\n",
              "Mon   1257  13423\n",
              "Sat    978  12358\n",
              "Sun    907  11229\n",
              "Thu   1266  13212\n",
              "Tue   1234  13916\n",
              "Wed   1262  13617"
            ]
          },
          "metadata": {
            "tags": []
          },
          "execution_count": 167
        }
      ]
    },
    {
      "cell_type": "markdown",
      "metadata": {
        "id": "LJSDgUCeVpP1"
      },
      "source": [
        "###Day and year matrix"
      ]
    },
    {
      "cell_type": "code",
      "metadata": {
        "id": "cs8y2GGASlas",
        "colab": {
          "base_uri": "https://localhost:8080/",
          "height": 405
        },
        "outputId": "b4455bf0-2bca-42a0-da55-23e3e3017835"
      },
      "source": [
        "plt.figure(figsize=(12,6))\n",
        "sns.heatmap(day_year,cmap='Paired')"
      ],
      "execution_count": 168,
      "outputs": [
        {
          "output_type": "execute_result",
          "data": {
            "text/plain": [
              "<matplotlib.axes._subplots.AxesSubplot at 0x7feea1150f10>"
            ]
          },
          "metadata": {
            "tags": []
          },
          "execution_count": 168
        },
        {
          "output_type": "display_data",
          "data": {
            "image/png": "[encoded data removed]",
            "text/plain": [
              "<Figure size 864x432 with 2 Axes>"
            ]
          },
          "metadata": {
            "tags": [],
            "needs_background": "light"
          }
        }
      ]
    },
    {
      "cell_type": "code",
      "metadata": {
        "id": "1H4agOggSlat",
        "colab": {
          "base_uri": "https://localhost:8080/",
          "height": 729
        },
        "outputId": "fce81c52-1fa6-4423-8df4-17a252a1427b"
      },
      "source": [
        "sns.clustermap(day_year,cmap='coolwarm')\n",
        "plt.show()\n",
        "#it shows maximum  on friday in 2016 and the least on sunday in 2015"
      ],
      "execution_count": 193,
      "outputs": [
        {
          "output_type": "display_data",
          "data": {
            "image/png": "[encoded data removed]",
            "text/plain": [
              "<Figure size 720x720 with 4 Axes>"
            ]
          },
          "metadata": {
            "tags": [],
            "needs_background": "light"
          }
        }
      ]
    },
    {
      "cell_type": "markdown",
      "metadata": {
        "id": "kxXtIOw8Vv5Z"
      },
      "source": [
        "###Day and Month matrix"
      ]
    },
    {
      "cell_type": "code",
      "metadata": {
        "id": "hgJp7GMNSlat",
        "colab": {
          "base_uri": "https://localhost:8080/",
          "height": 297
        },
        "outputId": "09051e70-31b8-4145-df43-df0353a99dbb"
      },
      "source": [
        "day_month = data.groupby(by=['Day','Month']).count()['Department'].unstack()\n",
        "day_month"
      ],
      "execution_count": 215,
      "outputs": [
        {
          "output_type": "execute_result",
          "data": {
            "text/html": [
              "<div>\n",
              "<style scoped>\n",
              "    .dataframe tbody tr th:only-of-type {\n",
              "        vertical-align: middle;\n",
              "    }\n",
              "\n",
              "    .dataframe tbody tr th {\n",
              "        vertical-align: top;\n",
              "    }\n",
              "\n",
              "    .dataframe thead th {\n",
              "        text-align: right;\n",
              "    }\n",
              "</style>\n",
              "<table border=\"1\" class=\"dataframe\">\n",
              "  <thead>\n",
              "    <tr style=\"text-align: right;\">\n",
              "      <th>Month</th>\n",
              "      <th>1</th>\n",
              "      <th>2</th>\n",
              "      <th>3</th>\n",
              "      <th>4</th>\n",
              "      <th>5</th>\n",
              "      <th>6</th>\n",
              "      <th>7</th>\n",
              "      <th>8</th>\n",
              "      <th>12</th>\n",
              "    </tr>\n",
              "    <tr>\n",
              "      <th>Day</th>\n",
              "      <th></th>\n",
              "      <th></th>\n",
              "      <th></th>\n",
              "      <th></th>\n",
              "      <th></th>\n",
              "      <th></th>\n",
              "      <th></th>\n",
              "      <th></th>\n",
              "      <th></th>\n",
              "    </tr>\n",
              "  </thead>\n",
              "  <tbody>\n",
              "    <tr>\n",
              "      <th>Fri</th>\n",
              "      <td>1970</td>\n",
              "      <td>1581</td>\n",
              "      <td>1525</td>\n",
              "      <td>1958</td>\n",
              "      <td>1730</td>\n",
              "      <td>1649</td>\n",
              "      <td>2045</td>\n",
              "      <td>1310</td>\n",
              "      <td>1065</td>\n",
              "    </tr>\n",
              "    <tr>\n",
              "      <th>Mon</th>\n",
              "      <td>1727</td>\n",
              "      <td>1964</td>\n",
              "      <td>1535</td>\n",
              "      <td>1598</td>\n",
              "      <td>1779</td>\n",
              "      <td>1617</td>\n",
              "      <td>1692</td>\n",
              "      <td>1511</td>\n",
              "      <td>1257</td>\n",
              "    </tr>\n",
              "    <tr>\n",
              "      <th>Sat</th>\n",
              "      <td>2291</td>\n",
              "      <td>1441</td>\n",
              "      <td>1266</td>\n",
              "      <td>1734</td>\n",
              "      <td>1444</td>\n",
              "      <td>1388</td>\n",
              "      <td>1695</td>\n",
              "      <td>1099</td>\n",
              "      <td>978</td>\n",
              "    </tr>\n",
              "    <tr>\n",
              "      <th>Sun</th>\n",
              "      <td>1960</td>\n",
              "      <td>1229</td>\n",
              "      <td>1102</td>\n",
              "      <td>1488</td>\n",
              "      <td>1424</td>\n",
              "      <td>1333</td>\n",
              "      <td>1672</td>\n",
              "      <td>1021</td>\n",
              "      <td>907</td>\n",
              "    </tr>\n",
              "    <tr>\n",
              "      <th>Thu</th>\n",
              "      <td>1584</td>\n",
              "      <td>1596</td>\n",
              "      <td>1900</td>\n",
              "      <td>1601</td>\n",
              "      <td>1590</td>\n",
              "      <td>2065</td>\n",
              "      <td>1646</td>\n",
              "      <td>1230</td>\n",
              "      <td>1266</td>\n",
              "    </tr>\n",
              "    <tr>\n",
              "      <th>Tue</th>\n",
              "      <td>1973</td>\n",
              "      <td>1753</td>\n",
              "      <td>1884</td>\n",
              "      <td>1430</td>\n",
              "      <td>1918</td>\n",
              "      <td>1676</td>\n",
              "      <td>1670</td>\n",
              "      <td>1612</td>\n",
              "      <td>1234</td>\n",
              "    </tr>\n",
              "    <tr>\n",
              "      <th>Wed</th>\n",
              "      <td>1700</td>\n",
              "      <td>1903</td>\n",
              "      <td>1889</td>\n",
              "      <td>1517</td>\n",
              "      <td>1538</td>\n",
              "      <td>2058</td>\n",
              "      <td>1717</td>\n",
              "      <td>1295</td>\n",
              "      <td>1262</td>\n",
              "    </tr>\n",
              "  </tbody>\n",
              "</table>\n",
              "</div>"
            ],
            "text/plain": [
              "Month    1     2     3     4     5     6     7     8     12\n",
              "Day                                                        \n",
              "Fri    1970  1581  1525  1958  1730  1649  2045  1310  1065\n",
              "Mon    1727  1964  1535  1598  1779  1617  1692  1511  1257\n",
              "Sat    2291  1441  1266  1734  1444  1388  1695  1099   978\n",
              "Sun    1960  1229  1102  1488  1424  1333  1672  1021   907\n",
              "Thu    1584  1596  1900  1601  1590  2065  1646  1230  1266\n",
              "Tue    1973  1753  1884  1430  1918  1676  1670  1612  1234\n",
              "Wed    1700  1903  1889  1517  1538  2058  1717  1295  1262"
            ]
          },
          "metadata": {
            "tags": []
          },
          "execution_count": 215
        }
      ]
    },
    {
      "cell_type": "code",
      "metadata": {
        "id": "eZSnvWwSSlat",
        "colab": {
          "base_uri": "https://localhost:8080/",
          "height": 388
        },
        "outputId": "4c6b9a6b-38f8-4cec-bf2a-fe134595af45"
      },
      "source": [
        "plt.figure(figsize=(12,6))\n",
        "sns.heatmap(day_month,cmap='coolwarm')\n",
        "plt.show()"
      ],
      "execution_count": 171,
      "outputs": [
        {
          "output_type": "display_data",
          "data": {
            "image/png": "[encoded data removed]",
            "text/plain": [
              "<Figure size 864x432 with 2 Axes>"
            ]
          },
          "metadata": {
            "tags": [],
            "needs_background": "light"
          }
        }
      ]
    },
    {
      "cell_type": "code",
      "metadata": {
        "id": "DApoUruBSlau",
        "colab": {
          "base_uri": "https://localhost:8080/",
          "height": 729
        },
        "outputId": "bb85d6b7-acc2-4fce-eccd-ec836a73681a"
      },
      "source": [
        "sns.clustermap(day_month,cmap='coolwarm')\n",
        "plt.show()\n",
        "#it shows maximum on Saturday Januaury and least on Sunday December"
      ],
      "execution_count": 199,
      "outputs": [
        {
          "output_type": "display_data",
          "data": {
            "image/png": "[encoded data removed]",
            "text/plain": [
              "<Figure size 720x720 with 4 Axes>"
            ]
          },
          "metadata": {
            "tags": [],
            "needs_background": "light"
          }
        }
      ]
    },
    {
      "cell_type": "markdown",
      "metadata": {
        "id": "H5Y0vyvlEDZx"
      },
      "source": [
        "##Data Analysis Results\n",
        "\n",
        "###Township\n",
        "- Most calls recieved in **Lower Merion**\n",
        "- Least calls recieved in **Lehigh Country**\n",
        " \n",
        "###Department\n",
        "- Most calls recieved in **EMS**\n",
        "- Least calls recieved in **Fire**\n",
        "\n",
        "###Cause\n",
        "- Most calls recieved in **Vehicle Accident**\n",
        "- Least calls recieved in **Disabled Vehicle**\n",
        "\n",
        "###Month\n",
        "- Most calls recieved in **January**\n",
        "- Least calls recieved in **December**\n",
        "\n",
        "###Year\n",
        "- Most calls recieved in **2016**\n",
        "- Least calls recieved in **2015**\n",
        "\n",
        "###Date\n",
        "- Most calls recieved in **2016-01-23**\n",
        "- Least calls recieved in **2015-12-10**\n",
        "\n",
        "###Hour\n",
        "- Most calls recieved in **17(5 PM)**\n",
        "- Least calls recieved in **4(4 AM)**\n",
        "\n",
        "###Day\n",
        "- Most calls recieved in **Tuesday**\n",
        "- Least calls recieved in **Sunday**\n",
        "\n",
        "###Day and year Matrix\n",
        "- Most calls recieved on **Friday in 2016** \n",
        "- Least calls recieved on **Sunday in 2015**\n",
        "\n",
        "###Day and Month Matrix\n",
        "- Most calls recieved on **Saturday Januaury**\n",
        "- Least calls recieved on **Sunday December**\n"
      ]
    }
  ]
}